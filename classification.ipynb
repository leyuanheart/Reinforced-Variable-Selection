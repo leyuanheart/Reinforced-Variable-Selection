{
 "cells": [
  {
   "cell_type": "code",
   "execution_count": 1,
   "id": "fe2fbe3b",
   "metadata": {
    "ExecuteTime": {
     "end_time": "2022-11-19T09:21:24.213762Z",
     "start_time": "2022-11-19T09:21:19.312921Z"
    }
   },
   "outputs": [],
   "source": [
    "import numpy as np\n",
    "import matplotlib.pyplot as plt\n",
    "import pandas as pd\n",
    "import time\n",
    "import datetime\n",
    "import random\n",
    "import copy\n",
    "from tqdm import tqdm\n",
    "\n",
    "# import sklearn\n",
    "from sklearn.linear_model import LinearRegression, LassoLarsIC, LassoCV, Ridge, LogisticRegression, LogisticRegressionCV\n",
    "from sklearn.neural_network import MLPRegressor, MLPClassifier\n",
    "from sklearn.ensemble import RandomForestRegressor, RandomForestClassifier, ExtraTreesClassifier, ExtraTreesRegressor\n",
    "from sklearn.svm import SVR, SVC\n",
    "from sklearn.model_selection import train_test_split\n",
    "from sklearn.metrics import confusion_matrix\n",
    "from sklearn.feature_selection import SelectFromModel, SequentialFeatureSelector\n",
    "from sklearn.feature_selection import mutual_info_classif, mutual_info_regression\n",
    "from sklearn.metrics import confusion_matrix  #, f1_score\n",
    "from sklearn.model_selection import cross_val_score\n",
    "from sklearn.preprocessing import StandardScaler\n",
    "from sklearn.utils import shuffle\n",
    "from sklearn.datasets import make_classification\n",
    "\n",
    "from scipy.stats import multivariate_normal, bernoulli\n",
    "\n",
    "import torch\n",
    "from torch import nn\n",
    "from torch import optim\n",
    "from torch.nn import functional as F\n",
    "from torch.distributions import Bernoulli\n",
    "# from torchsummary import summary\n",
    "\n",
    "import multiprocessing as mp\n",
    "\n",
    "\n",
    "import os\n",
    "import sys"
   ]
  },
  {
   "cell_type": "markdown",
   "id": "cbe32796",
   "metadata": {},
   "source": [
    "# Data Generation"
   ]
  },
  {
   "cell_type": "code",
   "execution_count": 2,
   "id": "0973bd39",
   "metadata": {
    "ExecuteTime": {
     "end_time": "2022-11-19T09:21:26.085177Z",
     "start_time": "2022-11-19T09:21:26.077198Z"
    }
   },
   "outputs": [],
   "source": [
    "# ===================== Binary classification =====================================================\n",
    "def generate_data(m=100, n=20, signal=1, sigma=1, num_support=8, seed=1):\n",
    "    \"Generates data matrix X and observations Y.\"\n",
    "    np.random.seed(seed)\n",
    "    # beta_star = np.random.randn(n)\n",
    "    # beta_star[num_support:] = 0\n",
    "        \n",
    "    beta_star = np.zeros(n)\n",
    "    beta_star[:num_support] = signal\n",
    "    X = np.random.randn(m,n)\n",
    "    logits = X.dot(beta_star) # + np.random.normal(0, sigma, size=m)   # 误差加在这结果会好一些\n",
    "    p = 1 / (1 + np.exp(-logits))                                    # 误差如果加在这，就会出现一些问题，p和x的关系就会被破坏\n",
    "    Y = (p > 0.5).astype(int)\n",
    "    return X, Y, beta_star, np.diag(np.ones(n))\n",
    "\n",
    "\n",
    "# ===================== Multi-class classification =====================================================\n",
    "def multi_classes(n_samples, n_features, n_informative, n_redundant, n_repeated, n_classes, seed=1):\n",
    "    X, Y = make_classification(n_samples=n_samples, \n",
    "                               n_features=n_features, \n",
    "                               n_informative=n_informative, \n",
    "                               n_redundant=n_redundant,\n",
    "                               n_repeated = n_repeated,\n",
    "                               n_classes=n_classes, \n",
    "                               shuffle=False, random_state=seed)\n",
    "    return X, Y\n",
    "\n",
    "n_informative = 8\n",
    "n_redundant = 0\n",
    "n_repeated = 0\n",
    "n_classes = 5\n",
    "num_support = n_informative + n_redundant"
   ]
  },
  {
   "cell_type": "markdown",
   "id": "daed1de5",
   "metadata": {},
   "source": [
    "# Architecture"
   ]
  },
  {
   "cell_type": "code",
   "execution_count": 3,
   "id": "d08e3857",
   "metadata": {
    "ExecuteTime": {
     "end_time": "2022-11-19T09:21:30.647229Z",
     "start_time": "2022-11-19T09:21:30.629309Z"
    }
   },
   "outputs": [],
   "source": [
    "# ==============================================================================================\n",
    "def get_data(x, y, batch_size=32):\n",
    "#     x = StandardScaler(with_mean=True, with_std=True).fit_transform(x)\n",
    "    sample_size = x.shape[0]\n",
    "    idx = np.random.choice(range(sample_size), batch_size, replace=False)\n",
    "    return x[idx, :], y[idx, np.newaxis]\n",
    "\n",
    "\n",
    "\n",
    "class Actor(nn.Module):\n",
    "    def __init__(self, obs_dim, action_dim):\n",
    "        '''\n",
    "        obs_dim: dim_x or (dim_x + dim_y)\n",
    "        action_dim: dim_x\n",
    "        '''\n",
    "        super(Actor, self).__init__()\n",
    "        \n",
    "        \n",
    "        self.fc1 = nn.Linear(in_features=obs_dim, out_features=256)\n",
    "        self.fc2 = nn.Linear(256, action_dim)\n",
    "        \n",
    "    def forward(self, obs):\n",
    "        obs = torch.tensor(obs, dtype=torch.float)\n",
    "        logits = F.relu(self.fc1(obs))\n",
    "        logits = self.fc2(logits)\n",
    "        \n",
    "        m = Bernoulli(logits=logits)\n",
    "        \n",
    "        actions = m.sample()\n",
    "        log_probs = m.log_prob(actions)\n",
    "        entropy = m.entropy()\n",
    "        \n",
    "        return actions, log_probs, entropy\n",
    "\n",
    "\n",
    "\n",
    "\n",
    "def compute_reward(X_train, Y_train, X_test, Y_test, actions, num_iter=500, lr=1e-3, batch_size='auto', dictionary=dict()):\n",
    "    reward_list = []\n",
    "    for action in actions.detach().numpy():\n",
    "        \n",
    "        idx = np.where(action == 1)[0]\n",
    "        \n",
    "        if tuple(idx) in dictionary:\n",
    "            reward_list.append(dictionary[tuple(idx)])\n",
    "        else:\n",
    "            X_select = X_train[:, idx]        \n",
    "            classifier = MLPClassifier(hidden_layer_sizes=(128,), random_state=1, learning_rate='adaptive', batch_size=batch_size,\n",
    "                                     learning_rate_init=lr, max_iter=num_iter, tol=1e-3)\n",
    "#             classifier = RandomForestClassifier(max_depth=5)\n",
    "            classifier.fit(X_select, Y_train)\n",
    "            X_select = X_test[:, idx] \n",
    "#             probs = classifier.predict_proba(X_select)\n",
    "#             eps = np.where(probs < 1e-4, 1e-4, 0)\n",
    "#             log_probs = np.log(probs + eps)\n",
    "#             log_likelihood = (log_probs[:, 1] * Y_test + log_probs[:, 0] * (1 - Y_test)).mean()\n",
    "#             predict_proba = classifier.predict_proba(X_select)\n",
    "#             loss = log_loss(Y_test, predict_proba)\n",
    "#             dictionary[tuple(idx)] = loss\n",
    "#             reward_list.append(loss)\n",
    "            \n",
    "#             classifier = RandomForestClassifier(max_depth=5)\n",
    "#             classifier = SVC(gamma='auto')\n",
    "            # classifier = LogisticRegression()\n",
    "#             classifier.fit(X_select, Y_train)\n",
    "            \n",
    "#             X_select = X_test[:, idx] \n",
    "            score = classifier.score(X_select, Y_test)\n",
    "            dictionary[tuple(idx)] = 1 - score\n",
    "            reward_list.append(1 - score)\n",
    "        \n",
    "    return np.array(reward_list)"
   ]
  },
  {
   "cell_type": "code",
   "execution_count": 4,
   "id": "1519a347",
   "metadata": {
    "ExecuteTime": {
     "end_time": "2021-11-06T03:33:21.758640Z",
     "start_time": "2021-11-06T03:33:21.720593Z"
    }
   },
   "outputs": [],
   "source": [
    "# training steps\n",
    "m = 100\n",
    "n = 24\n",
    "sigma = 0.5\n",
    "num_support = 8\n",
    "signal = 1\n",
    "y_true = np.zeros(n, dtype=np.int)\n",
    "y_true[:num_support] = 1\n",
    "\n",
    "\n",
    "# # For multi-class classification\n",
    "# n_informative = 8\n",
    "# n_redundant = 0\n",
    "# n_repeated = 0\n",
    "# n_classes = 5\n",
    "# num_support = n_informative + n_redundant\n",
    "\n",
    "\n",
    "\n",
    "def run(seed):\n",
    "    start = time.time()\n",
    "    print(f'random seed: {seed} is running')\n",
    "    np.random.seed(seed)\n",
    "    torch.manual_seed(seed)\n",
    "    \n",
    "    X, Y, beta_star, cov = generate_data(m, n, signal, sigma, num_support, seed=seed)\n",
    "    # X, Y = generate_data(m, n, n_informative, n_redundant, n_repeated, n_classes, seed=seed)  \n",
    "    \n",
    "    x_train, x_test, y_train, y_test = train_test_split(X, Y, test_size=0.3, random_state=seed)\n",
    "    \n",
    "    actor = Actor(obs_dim=n, action_dim=n)\n",
    "    actor_optimizer = optim.Adam(actor.parameters(), lr=1e-3)\n",
    "\n",
    "        \n",
    "    action_select = []\n",
    "    dictionary = dict()\n",
    "    r_list = []\n",
    "    \n",
    "    r_baseline = torch.tensor(0)\n",
    "    \n",
    "    for step in range(200):\n",
    "        # print('step: ', step)\n",
    "        \n",
    "        X_train, Y_train = get_data(x_train, y_train, batch_size=64)\n",
    "        # obs = np.concatenate((X_train, Y_train), axis=1)    \n",
    "        actions, log_probs, entropy = actor(X_train)\n",
    "        action_select.append(actions.detach().numpy().mean(axis=0))\n",
    "        \n",
    "        # r_baseline = critic(X_train)\n",
    "        # r_baseline = r_baseline.squeeze()\n",
    "        \n",
    "        \n",
    "        rewards = compute_reward(x_train, y_train, x_test, y_test, actions, num_iter=800, lr=1e-2, batch_size=64, dictionary=dictionary)\n",
    "        r_list.append(rewards.mean())\n",
    "        # print(f'average reward: {rewards.mean()}')\n",
    "        rewards = torch.tensor(rewards, dtype=torch.float32)\n",
    "        \n",
    "        r_baseline = 0.95 * r_baseline + 0.05 * rewards.mean()\n",
    "        \n",
    "        # update actor\n",
    "        actor_loss =  ((rewards - r_baseline) * log_probs.sum(dim=-1)).mean()\n",
    "        # actor_loss =  (rewards * log_probs.sum(dim=-1)).mean()\n",
    "        actor_optimizer.zero_grad()\n",
    "        actor_loss.backward()\n",
    "        actor_optimizer.step()\n",
    "        # print(f'actor loss: {actor_loss.item()}')\n",
    "        \n",
    "        # actor_loss =  (rewards * log_probs.sum(dim=-1)).mean()\n",
    "        # actor_optimizer.zero_grad()\n",
    "        # actor_loss.backward()\n",
    "        # actor_optimizer.step()\n",
    "        # print(f'actor loss: {actor_loss.item()}\\n')\n",
    "        \n",
    "        # update critic\n",
    "        # critic_loss = F.mse_loss(r_baseline, rewards)\n",
    "        # critic_optimizer.zero_grad()\n",
    "        # critic_loss.backward()\n",
    "        # critic_optimizer.step()\n",
    "        # print(f'critic loss: {critic_loss.item()}\\n')\n",
    "        \n",
    "#         if step > 6:\n",
    "#             if (abs(r_list[-1] - r_list[-2]) < 1e-3) & (abs(r_list[-2] - r_list[-3]) < 1e-3) & (abs(r_list[-3] - r_list[-4]) < 1e-3) & (abs(r_list[-4] - r_list[-5]) < 1e-3):\n",
    "# #             print(f'converge at step {step}')\n",
    "#                 break\n",
    "    \n",
    "    action_select = np.array(action_select)\n",
    "            \n",
    "    \n",
    "    tmp = sorted(dictionary.items(), key=lambda x: x[1])\n",
    "    s = set(range(n))\n",
    "    for item in tmp[:10]:\n",
    "        s = s & set(item[0])\n",
    "    # print(s)\n",
    "    \n",
    "    with torch.no_grad():\n",
    "        # obs = np.concatenate((X, Y[:, np.newaxis]), axis=1)\n",
    "        actions, log_probs, _ = actor(X)\n",
    "                        \n",
    "#     y_pred_rl1 = np.where(action_select[-10:].mean(axis=0) >= 0.9, 1, 0)\n",
    "#     y_pred_rl2 = np.where(actions.mean(dim=0) >= 0.9, 1, 0)\n",
    "    y_pred_rl1 = action_select[-10:].mean(axis=0)\n",
    "    y_pred_rl2 = actions.mean(dim=0).numpy()\n",
    "    y_pred_rl3 = np.where([i in s for i in range(n)], 1, 0)\n",
    "    \n",
    "    \n",
    "    logistic_cv = LogisticRegressionCV(cv=5, fit_intercept=False, penalty='l1', max_iter=1e6, solver='saga')\n",
    "    logistic_cv.fit(X, Y)\n",
    "    y_pred_logcv = np.where(logistic_cv.coef_.ravel() != 0, 1, 0)\n",
    "#     logistic = LogisticRegression(penalty='l2', fit_intercept=False, max_iter=1e6)\n",
    "#     logistic.fit(X, Y)\n",
    "#     logistic_sfm = SelectFromModel(logistic, prefit=True)\n",
    "#     y_pred_logsfm = np.where(logistic_sfm.get_support() != 0, 1, 0)\n",
    "    rf = RandomForestClassifier(max_depth=5, random_state=seed)    \n",
    "    rf.fit(X, Y)\n",
    "    sfm = SelectFromModel(rf, prefit=True)\n",
    "    y_pred_sfm = np.where(sfm.get_support() != 0, 1, 0)\n",
    "    \n",
    "\n",
    "    dat = np.vstack((y_pred_rl1, y_pred_rl2, y_pred_rl3, y_pred_logcv, y_pred_sfm))\n",
    "    \n",
    "    \n",
    "    end = time.time()\n",
    "    print(f'rd: {seed} take {datetime.timedelta(seconds = end - start)}')\n",
    "    \n",
    "    return dat"
   ]
  },
  {
   "cell_type": "code",
   "execution_count": 5,
   "id": "7e6c9271",
   "metadata": {
    "ExecuteTime": {
     "end_time": "2021-11-06T06:18:40.829877Z",
     "start_time": "2021-11-06T03:33:25.049609Z"
    },
    "collapsed": true
   },
   "outputs": [
    {
     "name": "stdout",
     "output_type": "stream",
     "text": [
      "random seed: 6 is runningrandom seed: 0 is runningrandom seed: 4 is runningrandom seed: 2 is runningrandom seed: 8 is runningrandom seed: 10 is runningrandom seed: 12 is runningrandom seed: 14 is running\n",
      "\n",
      "\n",
      "\n",
      "\n",
      "\n",
      "\n",
      "\n",
      "rd: 14 take 0:20:36.416295\n",
      "random seed: 15 is running\n",
      "rd: 4 take 0:20:53.217901\n",
      "random seed: 5 is running\n",
      "rd: 0 take 0:20:57.234183\n",
      "random seed: 1 is running\n",
      "rd: 12 take 0:21:01.838768\n",
      "random seed: 13 is running\n",
      "rd: 2 take 0:21:05.202679\n",
      "random seed: 3 is running\n",
      "rd: 8 take 0:21:16.901707\n",
      "random seed: 9 is running\n",
      "rd: 10 take 0:21:29.460861\n",
      "random seed: 11 is running\n",
      "rd: 6 take 0:21:31.633976\n",
      "random seed: 7 is running\n",
      "rd: 15 take 0:20:11.903919\n",
      "random seed: 16 is running\n",
      "rd: 3 take 0:20:11.501849\n",
      "random seed: 18 is running\n",
      "rd: 1 take 0:20:38.642315\n",
      "random seed: 20 is running\n",
      "rd: 7 take 0:21:06.194252\n",
      "random seed: 22 is running\n",
      "rd: 9 take 0:21:29.418451\n",
      "random seed: 24 is running\n",
      "rd: 13 take 0:22:02.887634\n",
      "random seed: 26 is running\n",
      "rd: 11 take 0:21:57.787273\n",
      "random seed: 28 is running\n",
      "rd: 5 take 0:22:45.544010\n",
      "random seed: 30 is running\n",
      "rd: 16 take 0:20:31.222172\n",
      "random seed: 17 is running\n",
      "rd: 20 take 0:21:13.753364\n",
      "random seed: 21 is running\n",
      "rd: 18 take 0:21:58.390203\n",
      "random seed: 19 is running\n",
      "rd: 22 take 0:21:08.057415\n",
      "random seed: 23 is running\n",
      "rd: 28 take 0:20:27.877272\n",
      "random seed: 29 is running\n",
      "rd: 26 take 0:21:31.611877\n",
      "random seed: 27 is running\n",
      "rd: 24 take 0:22:24.254951\n",
      "random seed: 25 is running\n",
      "rd: 30 take 0:22:24.394805\n",
      "random seed: 31 is running\n",
      "rd: 17 take 0:20:57.264693\n",
      "random seed: 32 is running\n",
      "rd: 21 take 0:21:18.708338\n",
      "random seed: 34 is running\n",
      "rd: 19 take 0:21:09.959626\n",
      "random seed: 36 is running\n",
      "rd: 23 take 0:21:39.746888\n",
      "random seed: 38 is running\n",
      "rd: 27 take 0:20:50.131918\n",
      "random seed: 40 is running\n",
      "rd: 31 take 0:21:46.732000\n",
      "random seed: 44 is running\n",
      "rd: 25 take 0:23:21.334275\n",
      "random seed: 46 is running\n",
      "rd: 32 take 0:19:45.859111\n",
      "random seed: 33 is running\n",
      "rd: 34 take 0:20:51.496593\n",
      "random seed: 35 is running\n",
      "rd: 38 take 0:21:33.543637\n",
      "random seed: 39 is running\n",
      "rd: 40 take 0:23:03.574794\n",
      "random seed: 41 is running\n",
      "rd: 36 take 0:24:25.793699\n",
      "random seed: 37 is running\n",
      "rd: 44 take 0:21:21.700700\n",
      "random seed: 45 is running\n",
      "rd: 42 take 0:22:28.015003\n",
      "random seed: 43 is running\n",
      "rd: 46 take 0:22:42.479764\n",
      "random seed: 47 is running\n",
      "rd: 33 take 0:21:22.023625\n",
      "random seed: 48 is running\n",
      "rd: 35 take 0:21:29.167973\n",
      "rd: 39 take 0:21:14.681470\n",
      "rd: 37 take 0:21:49.494424\n",
      "rd: 41 take 0:22:11.104692\n",
      "rd: 43 take 0:21:51.733869\n",
      "rd: 45 take 0:21:57.735141\n",
      "rd: 47 take 0:20:59.528516\n",
      "rd: 48 take 0:20:32.634769\n",
      "random seed: 49 is running\n",
      "rd: 49 take 0:21:18.176424\n",
      "2:45:15.766259\n"
     ]
    }
   ],
   "source": [
    "if __name__ == '__main__':  \n",
    "    # results = []\n",
    "    # for sd in tqdm(range(20)):\n",
    "    #     results.append(run(sd))\n",
    "\n",
    "    # print(\"CPU的核数为：{}\".format(mp.cpu_count()))\n",
    "    start = time.time()\n",
    "    pool = mp.Pool(8)\n",
    "    dats = pool.map(run, range(50))\n",
    "    pool.close()\n",
    "    end = time.time()\n",
    "    print(datetime.timedelta(seconds = end - start))\n",
    "    \n",
    "    \n",
    "    dats = np.array([dat for dat in dats])"
   ]
  },
  {
   "cell_type": "code",
   "execution_count": 8,
   "id": "6c573b74",
   "metadata": {
    "ExecuteTime": {
     "end_time": "2021-11-06T06:42:32.048462Z",
     "start_time": "2021-11-06T06:42:32.043196Z"
    }
   },
   "outputs": [],
   "source": [
    "np.save('./synthetic_data_analysis/results/m100_n24_logistic_reg_coef1_actor_step200_1e-3_predictor_step800_lr1e-2_last10_predbz64_1.5h', dats)"
   ]
  },
  {
   "cell_type": "code",
   "execution_count": 3,
   "id": "45fecf38",
   "metadata": {},
   "outputs": [],
   "source": [
    "dats = np.load('./synthetic_data_analysis/results/m100_n24_logistic_reg_coef1_actor_step200_1e-3_predictor_step800_lr1e-2_last10_predbz64_1.5h.npy')"
   ]
  },
  {
   "cell_type": "code",
   "execution_count": 4,
   "id": "4e36147d",
   "metadata": {
    "ExecuteTime": {
     "end_time": "2021-11-01T01:53:44.550078Z",
     "start_time": "2021-11-01T01:49:40.088Z"
    }
   },
   "outputs": [],
   "source": [
    "m = 100\n",
    "n = 24\n",
    "sigma = 0.5\n",
    "num_support = 8\n",
    "signal = 1\n",
    "y_true = np.zeros(n, dtype=np.int)\n",
    "y_true[:num_support] = 1"
   ]
  },
  {
   "cell_type": "code",
   "execution_count": 5,
   "id": "78f9095b",
   "metadata": {
    "ExecuteTime": {
     "end_time": "2021-11-01T05:16:23.448024Z",
     "start_time": "2021-11-01T05:16:23.211279Z"
    }
   },
   "outputs": [],
   "source": [
    "action_select = dats[:,0,:]\n",
    "actions = dats[:,1,:]\n",
    "y_pred_rl1 = np.where(action_select >= 0.9, 1, 0)\n",
    "y_pred_rl2 = np.where(actions >= 0.9, 1, 0)\n",
    "y_pred_rl3 = dats[:,2,:]\n",
    "y_pred_logcv = dats[:,3,:]\n",
    "y_pred_sfm = dats[:,4,:]\n",
    "\n",
    "\n",
    "def compute_metrics(cm):\n",
    "    tn, fp, fn, tp = cm.ravel()\n",
    "    precision = tp/(tp+fn)\n",
    "    recall = 0 if tp + fp == 0 else tp/(tp+fp)\n",
    "    f1_score = 2 * (precision * recall) / (precision + recall)\n",
    "    specificity = tn/(tn+fp)\n",
    "    return precision, recall, f1_score, specificity\n",
    "    \n",
    "\n",
    "\n",
    "cm1 = [confusion_matrix(y_true, y) for y in y_pred_rl1]\n",
    "cm2 = [confusion_matrix(y_true, y) for y in y_pred_rl2]\n",
    "cm3 = [confusion_matrix(y_true, y) for y in y_pred_rl3]\n",
    "cm_logcv = [confusion_matrix(y_true, y) for y in y_pred_logcv]\n",
    "cm_sfm = [confusion_matrix(y_true, y) for y in y_pred_sfm]\n",
    "\n",
    "\n",
    "\n",
    "\n",
    "\n",
    "results = pd.DataFrame(np.zeros((4, 5)), index=['precision', 'recall', 'f1_score', 'specificity'])\n",
    "\n",
    "for i, cms in enumerate([cm1, cm2, cm3, cm_logcv, cm_sfm]):\n",
    "    result = np.array([compute_metrics(cm) for cm in cms])\n",
    "    \n",
    "    results.loc['precision', i] = f'{result[:, 0].mean():.3f}'+'-'+f'{result[:, 0].std():.3f}'\n",
    "    results.loc['recall', i] = f'{result[:, 1].mean():.3f}'+'-'+f'{result[:, 1].std():.3f}'\n",
    "    results.loc['f1_score', i] = f'{result[:, 2].mean():.3f}'+'-'+f'{result[:, 2].std():.3f}'\n",
    "    results.loc['specificity', i] = f'{result[:, 3].mean():.3f}'+'-'+f'{result[:, 3].std():.3f}'\n",
    "\n",
    "results.columns = ['acp1', 'acp2', 'acp3', 'logcv', 'rf']"
   ]
  },
  {
   "cell_type": "code",
   "execution_count": 6,
   "id": "d7ed5f67",
   "metadata": {
    "ExecuteTime": {
     "end_time": "2021-11-01T05:16:25.349867Z",
     "start_time": "2021-11-01T05:16:25.328594Z"
    },
    "scrolled": true
   },
   "outputs": [
    {
     "data": {
      "text/html": [
       "<div>\n",
       "<style scoped>\n",
       "    .dataframe tbody tr th:only-of-type {\n",
       "        vertical-align: middle;\n",
       "    }\n",
       "\n",
       "    .dataframe tbody tr th {\n",
       "        vertical-align: top;\n",
       "    }\n",
       "\n",
       "    .dataframe thead th {\n",
       "        text-align: right;\n",
       "    }\n",
       "</style>\n",
       "<table border=\"1\" class=\"dataframe\">\n",
       "  <thead>\n",
       "    <tr style=\"text-align: right;\">\n",
       "      <th></th>\n",
       "      <th>acp1</th>\n",
       "      <th>acp2</th>\n",
       "      <th>acp3</th>\n",
       "      <th>logcv</th>\n",
       "      <th>rf</th>\n",
       "    </tr>\n",
       "  </thead>\n",
       "  <tbody>\n",
       "    <tr>\n",
       "      <th>precision</th>\n",
       "      <td>0.877-0.102</td>\n",
       "      <td>0.863-0.104</td>\n",
       "      <td>0.887-0.135</td>\n",
       "      <td>1.000-0.000</td>\n",
       "      <td>1.000-0.000</td>\n",
       "    </tr>\n",
       "    <tr>\n",
       "      <th>recall</th>\n",
       "      <td>0.868-0.113</td>\n",
       "      <td>0.872-0.129</td>\n",
       "      <td>0.799-0.124</td>\n",
       "      <td>0.499-0.150</td>\n",
       "      <td>0.958-0.067</td>\n",
       "    </tr>\n",
       "    <tr>\n",
       "      <th>f1_score</th>\n",
       "      <td>0.869-0.091</td>\n",
       "      <td>0.862-0.100</td>\n",
       "      <td>0.830-0.102</td>\n",
       "      <td>0.654-0.123</td>\n",
       "      <td>0.977-0.037</td>\n",
       "    </tr>\n",
       "    <tr>\n",
       "      <th>specificity</th>\n",
       "      <td>0.927-0.067</td>\n",
       "      <td>0.927-0.083</td>\n",
       "      <td>0.875-0.092</td>\n",
       "      <td>0.421-0.261</td>\n",
       "      <td>0.975-0.041</td>\n",
       "    </tr>\n",
       "  </tbody>\n",
       "</table>\n",
       "</div>"
      ],
      "text/plain": [
       "                    acp1         acp2         acp3        logcv           rf\n",
       "precision    0.877-0.102  0.863-0.104  0.887-0.135  1.000-0.000  1.000-0.000\n",
       "recall       0.868-0.113  0.872-0.129  0.799-0.124  0.499-0.150  0.958-0.067\n",
       "f1_score     0.869-0.091  0.862-0.100  0.830-0.102  0.654-0.123  0.977-0.037\n",
       "specificity  0.927-0.067  0.927-0.083  0.875-0.092  0.421-0.261  0.975-0.041"
      ]
     },
     "execution_count": 6,
     "metadata": {},
     "output_type": "execute_result"
    }
   ],
   "source": [
    "results"
   ]
  },
  {
   "cell_type": "markdown",
   "id": "785e1868",
   "metadata": {},
   "source": [
    "# one run"
   ]
  },
  {
   "cell_type": "code",
   "execution_count": 4,
   "id": "867020d7",
   "metadata": {
    "ExecuteTime": {
     "end_time": "2022-11-19T09:23:36.844550Z",
     "start_time": "2022-11-19T09:22:43.518128Z"
    },
    "scrolled": true
   },
   "outputs": [
    {
     "name": "stdout",
     "output_type": "stream",
     "text": [
      "step:  0\n",
      "average reward: 0.30234375\n",
      "step:  1\n",
      "average reward: 0.28984375000000007\n",
      "step:  2\n",
      "average reward: 0.3065104166666667\n",
      "step:  3\n",
      "average reward: 0.2838541666666667\n",
      "step:  4\n",
      "average reward: 0.2885416666666667\n",
      "step:  5\n",
      "average reward: 0.29453124999999997\n",
      "step:  6\n",
      "average reward: 0.2677083333333333\n",
      "step:  7\n",
      "average reward: 0.2828125\n",
      "step:  8\n"
     ]
    },
    {
     "name": "stderr",
     "output_type": "stream",
     "text": [
      "D:\\miniconda3\\lib\\site-packages\\sklearn\\neural_network\\_multilayer_perceptron.py:699: UserWarning: Training interrupted by user.\n",
      "  warnings.warn(\"Training interrupted by user.\")\n",
      "D:\\miniconda3\\lib\\site-packages\\sklearn\\neural_network\\_multilayer_perceptron.py:699: UserWarning: Training interrupted by user.\n",
      "  warnings.warn(\"Training interrupted by user.\")\n",
      "D:\\miniconda3\\lib\\site-packages\\sklearn\\neural_network\\_multilayer_perceptron.py:699: UserWarning: Training interrupted by user.\n",
      "  warnings.warn(\"Training interrupted by user.\")\n",
      "D:\\miniconda3\\lib\\site-packages\\sklearn\\neural_network\\_multilayer_perceptron.py:699: UserWarning: Training interrupted by user.\n",
      "  warnings.warn(\"Training interrupted by user.\")\n",
      "D:\\miniconda3\\lib\\site-packages\\sklearn\\neural_network\\_multilayer_perceptron.py:699: UserWarning: Training interrupted by user.\n",
      "  warnings.warn(\"Training interrupted by user.\")\n",
      "D:\\miniconda3\\lib\\site-packages\\sklearn\\neural_network\\_multilayer_perceptron.py:699: UserWarning: Training interrupted by user.\n",
      "  warnings.warn(\"Training interrupted by user.\")\n",
      "D:\\miniconda3\\lib\\site-packages\\sklearn\\neural_network\\_multilayer_perceptron.py:699: UserWarning: Training interrupted by user.\n",
      "  warnings.warn(\"Training interrupted by user.\")\n",
      "D:\\miniconda3\\lib\\site-packages\\sklearn\\neural_network\\_multilayer_perceptron.py:699: UserWarning: Training interrupted by user.\n",
      "  warnings.warn(\"Training interrupted by user.\")\n",
      "D:\\miniconda3\\lib\\site-packages\\sklearn\\neural_network\\_multilayer_perceptron.py:699: UserWarning: Training interrupted by user.\n",
      "  warnings.warn(\"Training interrupted by user.\")\n",
      "D:\\miniconda3\\lib\\site-packages\\sklearn\\neural_network\\_multilayer_perceptron.py:699: UserWarning: Training interrupted by user.\n",
      "  warnings.warn(\"Training interrupted by user.\")\n",
      "D:\\miniconda3\\lib\\site-packages\\sklearn\\neural_network\\_multilayer_perceptron.py:699: UserWarning: Training interrupted by user.\n",
      "  warnings.warn(\"Training interrupted by user.\")\n",
      "D:\\miniconda3\\lib\\site-packages\\sklearn\\neural_network\\_multilayer_perceptron.py:699: UserWarning: Training interrupted by user.\n",
      "  warnings.warn(\"Training interrupted by user.\")\n",
      "D:\\miniconda3\\lib\\site-packages\\sklearn\\neural_network\\_multilayer_perceptron.py:699: UserWarning: Training interrupted by user.\n",
      "  warnings.warn(\"Training interrupted by user.\")\n",
      "D:\\miniconda3\\lib\\site-packages\\sklearn\\neural_network\\_multilayer_perceptron.py:699: UserWarning: Training interrupted by user.\n",
      "  warnings.warn(\"Training interrupted by user.\")\n",
      "ERROR:root:Internal Python error in the inspect module.\n",
      "Below is the traceback from this internal error.\n",
      "\n"
     ]
    },
    {
     "name": "stdout",
     "output_type": "stream",
     "text": [
      "Traceback (most recent call last):\n",
      "  File \"D:\\miniconda3\\lib\\site-packages\\IPython\\core\\interactiveshell.py\", line 3437, in run_code\n",
      "    exec(code_obj, self.user_global_ns, self.user_ns)\n",
      "  File \"<ipython-input-4-86b55e84abee>\", line 49, in <module>\n",
      "    rewards = compute_reward(x_train, y_train, x_test, y_test, actions, num_iter=800, lr=1e-2, batch_size=64, dictionary=dictionary)\n",
      "  File \"<ipython-input-3-29d802fee3a0>\", line 51, in compute_reward\n",
      "    classifier.fit(X_select, Y_train)\n",
      "  File \"D:\\miniconda3\\lib\\site-packages\\sklearn\\neural_network\\_multilayer_perceptron.py\", line 752, in fit\n",
      "    return self._fit(X, y, incremental=False)\n",
      "  File \"D:\\miniconda3\\lib\\site-packages\\sklearn\\neural_network\\_multilayer_perceptron.py\", line 406, in _fit\n",
      "    self._random_state = check_random_state(self.random_state)\n",
      "  File \"D:\\miniconda3\\lib\\site-packages\\sklearn\\utils\\validation.py\", line 1057, in check_random_state\n",
      "    return np.random.RandomState(seed)\n",
      "  File \"mtrand.pyx\", line 184, in numpy.random.mtrand.RandomState.__init__\n",
      "  File \"_mt19937.pyx\", line 129, in numpy.random._mt19937.MT19937.__init__\n",
      "  File \"bit_generator.pyx\", line 523, in numpy.random.bit_generator.BitGenerator.__init__\n",
      "  File \"bit_generator.pyx\", line 313, in numpy.random.bit_generator.SeedSequence.__init__\n",
      "  File \"bit_generator.pyx\", line 398, in numpy.random.bit_generator.SeedSequence.get_assembled_entropy\n",
      "  File \"<__array_function__ internals>\", line 6, in concatenate\n",
      "KeyboardInterrupt\n",
      "\n",
      "During handling of the above exception, another exception occurred:\n",
      "\n",
      "Traceback (most recent call last):\n",
      "  File \"D:\\miniconda3\\lib\\site-packages\\IPython\\core\\interactiveshell.py\", line 2061, in showtraceback\n",
      "    stb = value._render_traceback_()\n",
      "AttributeError: 'KeyboardInterrupt' object has no attribute '_render_traceback_'\n",
      "\n",
      "During handling of the above exception, another exception occurred:\n",
      "\n",
      "Traceback (most recent call last):\n",
      "  File \"D:\\miniconda3\\lib\\site-packages\\IPython\\core\\ultratb.py\", line 1101, in get_records\n",
      "    return _fixed_getinnerframes(etb, number_of_lines_of_context, tb_offset)\n",
      "  File \"D:\\miniconda3\\lib\\site-packages\\IPython\\core\\ultratb.py\", line 248, in wrapped\n",
      "    return f(*args, **kwargs)\n",
      "  File \"D:\\miniconda3\\lib\\site-packages\\IPython\\core\\ultratb.py\", line 281, in _fixed_getinnerframes\n",
      "    records = fix_frame_records_filenames(inspect.getinnerframes(etb, context))\n",
      "  File \"D:\\miniconda3\\lib\\inspect.py\", line 1502, in getinnerframes\n",
      "    frameinfo = (tb.tb_frame,) + getframeinfo(tb, context)\n",
      "  File \"D:\\miniconda3\\lib\\inspect.py\", line 1460, in getframeinfo\n",
      "    filename = getsourcefile(frame) or getfile(frame)\n",
      "  File \"D:\\miniconda3\\lib\\inspect.py\", line 696, in getsourcefile\n",
      "    if getattr(getmodule(object, filename), '__loader__', None) is not None:\n",
      "  File \"D:\\miniconda3\\lib\\inspect.py\", line 739, in getmodule\n",
      "    f = getabsfile(module)\n",
      "  File \"D:\\miniconda3\\lib\\inspect.py\", line 708, in getabsfile\n",
      "    _filename = getsourcefile(object) or getfile(object)\n",
      "  File \"D:\\miniconda3\\lib\\inspect.py\", line 693, in getsourcefile\n",
      "    if os.path.exists(filename):\n",
      "  File \"D:\\miniconda3\\lib\\genericpath.py\", line 19, in exists\n",
      "    os.stat(path)\n",
      "KeyboardInterrupt\n"
     ]
    },
    {
     "ename": "TypeError",
     "evalue": "object of type 'NoneType' has no len()",
     "output_type": "error",
     "traceback": [
      "\u001b[1;31m---------------------------------------------------------------------------\u001b[0m",
      "\u001b[1;31mKeyboardInterrupt\u001b[0m                         Traceback (most recent call last)",
      "    \u001b[1;31m[... skipping hidden 1 frame]\u001b[0m\n",
      "\u001b[1;32m<ipython-input-4-86b55e84abee>\u001b[0m in \u001b[0;36m<module>\u001b[1;34m\u001b[0m\n\u001b[0;32m     48\u001b[0m \u001b[1;33m\u001b[0m\u001b[0m\n\u001b[1;32m---> 49\u001b[1;33m     \u001b[0mrewards\u001b[0m \u001b[1;33m=\u001b[0m \u001b[0mcompute_reward\u001b[0m\u001b[1;33m(\u001b[0m\u001b[0mx_train\u001b[0m\u001b[1;33m,\u001b[0m \u001b[0my_train\u001b[0m\u001b[1;33m,\u001b[0m \u001b[0mx_test\u001b[0m\u001b[1;33m,\u001b[0m \u001b[0my_test\u001b[0m\u001b[1;33m,\u001b[0m \u001b[0mactions\u001b[0m\u001b[1;33m,\u001b[0m \u001b[0mnum_iter\u001b[0m\u001b[1;33m=\u001b[0m\u001b[1;36m800\u001b[0m\u001b[1;33m,\u001b[0m \u001b[0mlr\u001b[0m\u001b[1;33m=\u001b[0m\u001b[1;36m1e-2\u001b[0m\u001b[1;33m,\u001b[0m \u001b[0mbatch_size\u001b[0m\u001b[1;33m=\u001b[0m\u001b[1;36m64\u001b[0m\u001b[1;33m,\u001b[0m \u001b[0mdictionary\u001b[0m\u001b[1;33m=\u001b[0m\u001b[0mdictionary\u001b[0m\u001b[1;33m)\u001b[0m\u001b[1;33m\u001b[0m\u001b[1;33m\u001b[0m\u001b[0m\n\u001b[0m\u001b[0;32m     50\u001b[0m     \u001b[0mr_list\u001b[0m\u001b[1;33m.\u001b[0m\u001b[0mappend\u001b[0m\u001b[1;33m(\u001b[0m\u001b[0mrewards\u001b[0m\u001b[1;33m.\u001b[0m\u001b[0mmean\u001b[0m\u001b[1;33m(\u001b[0m\u001b[1;33m)\u001b[0m\u001b[1;33m)\u001b[0m\u001b[1;33m\u001b[0m\u001b[1;33m\u001b[0m\u001b[0m\n",
      "\u001b[1;32m<ipython-input-3-29d802fee3a0>\u001b[0m in \u001b[0;36mcompute_reward\u001b[1;34m(X_train, Y_train, X_test, Y_test, actions, num_iter, lr, batch_size, dictionary)\u001b[0m\n\u001b[0;32m     50\u001b[0m \u001b[1;31m#             classifier = RandomForestClassifier(max_depth=5)\u001b[0m\u001b[1;33m\u001b[0m\u001b[1;33m\u001b[0m\u001b[1;33m\u001b[0m\u001b[0m\n\u001b[1;32m---> 51\u001b[1;33m             \u001b[0mclassifier\u001b[0m\u001b[1;33m.\u001b[0m\u001b[0mfit\u001b[0m\u001b[1;33m(\u001b[0m\u001b[0mX_select\u001b[0m\u001b[1;33m,\u001b[0m \u001b[0mY_train\u001b[0m\u001b[1;33m)\u001b[0m\u001b[1;33m\u001b[0m\u001b[1;33m\u001b[0m\u001b[0m\n\u001b[0m\u001b[0;32m     52\u001b[0m             \u001b[0mX_select\u001b[0m \u001b[1;33m=\u001b[0m \u001b[0mX_test\u001b[0m\u001b[1;33m[\u001b[0m\u001b[1;33m:\u001b[0m\u001b[1;33m,\u001b[0m \u001b[0midx\u001b[0m\u001b[1;33m]\u001b[0m\u001b[1;33m\u001b[0m\u001b[1;33m\u001b[0m\u001b[0m\n",
      "\u001b[1;32mD:\\miniconda3\\lib\\site-packages\\sklearn\\neural_network\\_multilayer_perceptron.py\u001b[0m in \u001b[0;36mfit\u001b[1;34m(self, X, y)\u001b[0m\n\u001b[0;32m    751\u001b[0m         \"\"\"\n\u001b[1;32m--> 752\u001b[1;33m         \u001b[1;32mreturn\u001b[0m \u001b[0mself\u001b[0m\u001b[1;33m.\u001b[0m\u001b[0m_fit\u001b[0m\u001b[1;33m(\u001b[0m\u001b[0mX\u001b[0m\u001b[1;33m,\u001b[0m \u001b[0my\u001b[0m\u001b[1;33m,\u001b[0m \u001b[0mincremental\u001b[0m\u001b[1;33m=\u001b[0m\u001b[1;32mFalse\u001b[0m\u001b[1;33m)\u001b[0m\u001b[1;33m\u001b[0m\u001b[1;33m\u001b[0m\u001b[0m\n\u001b[0m\u001b[0;32m    753\u001b[0m \u001b[1;33m\u001b[0m\u001b[0m\n",
      "\u001b[1;32mD:\\miniconda3\\lib\\site-packages\\sklearn\\neural_network\\_multilayer_perceptron.py\u001b[0m in \u001b[0;36m_fit\u001b[1;34m(self, X, y, incremental)\u001b[0m\n\u001b[0;32m    405\u001b[0m         \u001b[1;31m# check random state\u001b[0m\u001b[1;33m\u001b[0m\u001b[1;33m\u001b[0m\u001b[1;33m\u001b[0m\u001b[0m\n\u001b[1;32m--> 406\u001b[1;33m         \u001b[0mself\u001b[0m\u001b[1;33m.\u001b[0m\u001b[0m_random_state\u001b[0m \u001b[1;33m=\u001b[0m \u001b[0mcheck_random_state\u001b[0m\u001b[1;33m(\u001b[0m\u001b[0mself\u001b[0m\u001b[1;33m.\u001b[0m\u001b[0mrandom_state\u001b[0m\u001b[1;33m)\u001b[0m\u001b[1;33m\u001b[0m\u001b[1;33m\u001b[0m\u001b[0m\n\u001b[0m\u001b[0;32m    407\u001b[0m \u001b[1;33m\u001b[0m\u001b[0m\n",
      "\u001b[1;32mD:\\miniconda3\\lib\\site-packages\\sklearn\\utils\\validation.py\u001b[0m in \u001b[0;36mcheck_random_state\u001b[1;34m(seed)\u001b[0m\n\u001b[0;32m   1056\u001b[0m     \u001b[1;32mif\u001b[0m \u001b[0misinstance\u001b[0m\u001b[1;33m(\u001b[0m\u001b[0mseed\u001b[0m\u001b[1;33m,\u001b[0m \u001b[0mnumbers\u001b[0m\u001b[1;33m.\u001b[0m\u001b[0mIntegral\u001b[0m\u001b[1;33m)\u001b[0m\u001b[1;33m:\u001b[0m\u001b[1;33m\u001b[0m\u001b[1;33m\u001b[0m\u001b[0m\n\u001b[1;32m-> 1057\u001b[1;33m         \u001b[1;32mreturn\u001b[0m \u001b[0mnp\u001b[0m\u001b[1;33m.\u001b[0m\u001b[0mrandom\u001b[0m\u001b[1;33m.\u001b[0m\u001b[0mRandomState\u001b[0m\u001b[1;33m(\u001b[0m\u001b[0mseed\u001b[0m\u001b[1;33m)\u001b[0m\u001b[1;33m\u001b[0m\u001b[1;33m\u001b[0m\u001b[0m\n\u001b[0m\u001b[0;32m   1058\u001b[0m     \u001b[1;32mif\u001b[0m \u001b[0misinstance\u001b[0m\u001b[1;33m(\u001b[0m\u001b[0mseed\u001b[0m\u001b[1;33m,\u001b[0m \u001b[0mnp\u001b[0m\u001b[1;33m.\u001b[0m\u001b[0mrandom\u001b[0m\u001b[1;33m.\u001b[0m\u001b[0mRandomState\u001b[0m\u001b[1;33m)\u001b[0m\u001b[1;33m:\u001b[0m\u001b[1;33m\u001b[0m\u001b[1;33m\u001b[0m\u001b[0m\n",
      "\u001b[1;32mmtrand.pyx\u001b[0m in \u001b[0;36mnumpy.random.mtrand.RandomState.__init__\u001b[1;34m()\u001b[0m\n",
      "\u001b[1;32m_mt19937.pyx\u001b[0m in \u001b[0;36mnumpy.random._mt19937.MT19937.__init__\u001b[1;34m()\u001b[0m\n",
      "\u001b[1;32mbit_generator.pyx\u001b[0m in \u001b[0;36mnumpy.random.bit_generator.BitGenerator.__init__\u001b[1;34m()\u001b[0m\n",
      "\u001b[1;32mbit_generator.pyx\u001b[0m in \u001b[0;36mnumpy.random.bit_generator.SeedSequence.__init__\u001b[1;34m()\u001b[0m\n",
      "\u001b[1;32mbit_generator.pyx\u001b[0m in \u001b[0;36mnumpy.random.bit_generator.SeedSequence.get_assembled_entropy\u001b[1;34m()\u001b[0m\n",
      "\u001b[1;32m<__array_function__ internals>\u001b[0m in \u001b[0;36mconcatenate\u001b[1;34m(*args, **kwargs)\u001b[0m\n",
      "\u001b[1;31mKeyboardInterrupt\u001b[0m: ",
      "\nDuring handling of the above exception, another exception occurred:\n",
      "\u001b[1;31mAttributeError\u001b[0m                            Traceback (most recent call last)",
      "\u001b[1;32mD:\\miniconda3\\lib\\site-packages\\IPython\\core\\interactiveshell.py\u001b[0m in \u001b[0;36mshowtraceback\u001b[1;34m(self, exc_tuple, filename, tb_offset, exception_only, running_compiled_code)\u001b[0m\n\u001b[0;32m   2060\u001b[0m                         \u001b[1;31m# in the engines. This should return a list of strings.\u001b[0m\u001b[1;33m\u001b[0m\u001b[1;33m\u001b[0m\u001b[1;33m\u001b[0m\u001b[0m\n\u001b[1;32m-> 2061\u001b[1;33m                         \u001b[0mstb\u001b[0m \u001b[1;33m=\u001b[0m \u001b[0mvalue\u001b[0m\u001b[1;33m.\u001b[0m\u001b[0m_render_traceback_\u001b[0m\u001b[1;33m(\u001b[0m\u001b[1;33m)\u001b[0m\u001b[1;33m\u001b[0m\u001b[1;33m\u001b[0m\u001b[0m\n\u001b[0m\u001b[0;32m   2062\u001b[0m                     \u001b[1;32mexcept\u001b[0m \u001b[0mException\u001b[0m\u001b[1;33m:\u001b[0m\u001b[1;33m\u001b[0m\u001b[1;33m\u001b[0m\u001b[0m\n",
      "\u001b[1;31mAttributeError\u001b[0m: 'KeyboardInterrupt' object has no attribute '_render_traceback_'",
      "\nDuring handling of the above exception, another exception occurred:\n",
      "\u001b[1;31mTypeError\u001b[0m                                 Traceback (most recent call last)",
      "    \u001b[1;31m[... skipping hidden 1 frame]\u001b[0m\n",
      "\u001b[1;32mD:\\miniconda3\\lib\\site-packages\\IPython\\core\\interactiveshell.py\u001b[0m in \u001b[0;36mshowtraceback\u001b[1;34m(self, exc_tuple, filename, tb_offset, exception_only, running_compiled_code)\u001b[0m\n\u001b[0;32m   2062\u001b[0m                     \u001b[1;32mexcept\u001b[0m \u001b[0mException\u001b[0m\u001b[1;33m:\u001b[0m\u001b[1;33m\u001b[0m\u001b[1;33m\u001b[0m\u001b[0m\n\u001b[0;32m   2063\u001b[0m                         stb = self.InteractiveTB.structured_traceback(etype,\n\u001b[1;32m-> 2064\u001b[1;33m                                             value, tb, tb_offset=tb_offset)\n\u001b[0m\u001b[0;32m   2065\u001b[0m \u001b[1;33m\u001b[0m\u001b[0m\n\u001b[0;32m   2066\u001b[0m                     \u001b[0mself\u001b[0m\u001b[1;33m.\u001b[0m\u001b[0m_showtraceback\u001b[0m\u001b[1;33m(\u001b[0m\u001b[0metype\u001b[0m\u001b[1;33m,\u001b[0m \u001b[0mvalue\u001b[0m\u001b[1;33m,\u001b[0m \u001b[0mstb\u001b[0m\u001b[1;33m)\u001b[0m\u001b[1;33m\u001b[0m\u001b[1;33m\u001b[0m\u001b[0m\n",
      "\u001b[1;32mD:\\miniconda3\\lib\\site-packages\\IPython\\core\\ultratb.py\u001b[0m in \u001b[0;36mstructured_traceback\u001b[1;34m(self, etype, value, tb, tb_offset, number_of_lines_of_context)\u001b[0m\n\u001b[0;32m   1366\u001b[0m             \u001b[0mself\u001b[0m\u001b[1;33m.\u001b[0m\u001b[0mtb\u001b[0m \u001b[1;33m=\u001b[0m \u001b[0mtb\u001b[0m\u001b[1;33m\u001b[0m\u001b[1;33m\u001b[0m\u001b[0m\n\u001b[0;32m   1367\u001b[0m         return FormattedTB.structured_traceback(\n\u001b[1;32m-> 1368\u001b[1;33m             self, etype, value, tb, tb_offset, number_of_lines_of_context)\n\u001b[0m\u001b[0;32m   1369\u001b[0m \u001b[1;33m\u001b[0m\u001b[0m\n\u001b[0;32m   1370\u001b[0m \u001b[1;33m\u001b[0m\u001b[0m\n",
      "\u001b[1;32mD:\\miniconda3\\lib\\site-packages\\IPython\\core\\ultratb.py\u001b[0m in \u001b[0;36mstructured_traceback\u001b[1;34m(self, etype, value, tb, tb_offset, number_of_lines_of_context)\u001b[0m\n\u001b[0;32m   1266\u001b[0m             \u001b[1;31m# Verbose modes need a full traceback\u001b[0m\u001b[1;33m\u001b[0m\u001b[1;33m\u001b[0m\u001b[1;33m\u001b[0m\u001b[0m\n\u001b[0;32m   1267\u001b[0m             return VerboseTB.structured_traceback(\n\u001b[1;32m-> 1268\u001b[1;33m                 \u001b[0mself\u001b[0m\u001b[1;33m,\u001b[0m \u001b[0metype\u001b[0m\u001b[1;33m,\u001b[0m \u001b[0mvalue\u001b[0m\u001b[1;33m,\u001b[0m \u001b[0mtb\u001b[0m\u001b[1;33m,\u001b[0m \u001b[0mtb_offset\u001b[0m\u001b[1;33m,\u001b[0m \u001b[0mnumber_of_lines_of_context\u001b[0m\u001b[1;33m\u001b[0m\u001b[1;33m\u001b[0m\u001b[0m\n\u001b[0m\u001b[0;32m   1269\u001b[0m             )\n\u001b[0;32m   1270\u001b[0m         \u001b[1;32melif\u001b[0m \u001b[0mmode\u001b[0m \u001b[1;33m==\u001b[0m \u001b[1;34m'Minimal'\u001b[0m\u001b[1;33m:\u001b[0m\u001b[1;33m\u001b[0m\u001b[1;33m\u001b[0m\u001b[0m\n",
      "\u001b[1;32mD:\\miniconda3\\lib\\site-packages\\IPython\\core\\ultratb.py\u001b[0m in \u001b[0;36mstructured_traceback\u001b[1;34m(self, etype, evalue, etb, tb_offset, number_of_lines_of_context)\u001b[0m\n\u001b[0;32m   1123\u001b[0m \u001b[1;33m\u001b[0m\u001b[0m\n\u001b[0;32m   1124\u001b[0m         formatted_exception = self.format_exception_as_a_whole(etype, evalue, etb, number_of_lines_of_context,\n\u001b[1;32m-> 1125\u001b[1;33m                                                                tb_offset)\n\u001b[0m\u001b[0;32m   1126\u001b[0m \u001b[1;33m\u001b[0m\u001b[0m\n\u001b[0;32m   1127\u001b[0m         \u001b[0mcolors\u001b[0m \u001b[1;33m=\u001b[0m \u001b[0mself\u001b[0m\u001b[1;33m.\u001b[0m\u001b[0mColors\u001b[0m  \u001b[1;31m# just a shorthand + quicker name lookup\u001b[0m\u001b[1;33m\u001b[0m\u001b[1;33m\u001b[0m\u001b[0m\n",
      "\u001b[1;32mD:\\miniconda3\\lib\\site-packages\\IPython\\core\\ultratb.py\u001b[0m in \u001b[0;36mformat_exception_as_a_whole\u001b[1;34m(self, etype, evalue, etb, number_of_lines_of_context, tb_offset)\u001b[0m\n\u001b[0;32m   1080\u001b[0m \u001b[1;33m\u001b[0m\u001b[0m\n\u001b[0;32m   1081\u001b[0m \u001b[1;33m\u001b[0m\u001b[0m\n\u001b[1;32m-> 1082\u001b[1;33m         \u001b[0mlast_unique\u001b[0m\u001b[1;33m,\u001b[0m \u001b[0mrecursion_repeat\u001b[0m \u001b[1;33m=\u001b[0m \u001b[0mfind_recursion\u001b[0m\u001b[1;33m(\u001b[0m\u001b[0morig_etype\u001b[0m\u001b[1;33m,\u001b[0m \u001b[0mevalue\u001b[0m\u001b[1;33m,\u001b[0m \u001b[0mrecords\u001b[0m\u001b[1;33m)\u001b[0m\u001b[1;33m\u001b[0m\u001b[1;33m\u001b[0m\u001b[0m\n\u001b[0m\u001b[0;32m   1083\u001b[0m \u001b[1;33m\u001b[0m\u001b[0m\n\u001b[0;32m   1084\u001b[0m         \u001b[0mframes\u001b[0m \u001b[1;33m=\u001b[0m \u001b[0mself\u001b[0m\u001b[1;33m.\u001b[0m\u001b[0mformat_records\u001b[0m\u001b[1;33m(\u001b[0m\u001b[0mrecords\u001b[0m\u001b[1;33m,\u001b[0m \u001b[0mlast_unique\u001b[0m\u001b[1;33m,\u001b[0m \u001b[0mrecursion_repeat\u001b[0m\u001b[1;33m)\u001b[0m\u001b[1;33m\u001b[0m\u001b[1;33m\u001b[0m\u001b[0m\n",
      "\u001b[1;32mD:\\miniconda3\\lib\\site-packages\\IPython\\core\\ultratb.py\u001b[0m in \u001b[0;36mfind_recursion\u001b[1;34m(etype, value, records)\u001b[0m\n\u001b[0;32m    380\u001b[0m     \u001b[1;31m# first frame (from in to out) that looks different.\u001b[0m\u001b[1;33m\u001b[0m\u001b[1;33m\u001b[0m\u001b[1;33m\u001b[0m\u001b[0m\n\u001b[0;32m    381\u001b[0m     \u001b[1;32mif\u001b[0m \u001b[1;32mnot\u001b[0m \u001b[0mis_recursion_error\u001b[0m\u001b[1;33m(\u001b[0m\u001b[0metype\u001b[0m\u001b[1;33m,\u001b[0m \u001b[0mvalue\u001b[0m\u001b[1;33m,\u001b[0m \u001b[0mrecords\u001b[0m\u001b[1;33m)\u001b[0m\u001b[1;33m:\u001b[0m\u001b[1;33m\u001b[0m\u001b[1;33m\u001b[0m\u001b[0m\n\u001b[1;32m--> 382\u001b[1;33m         \u001b[1;32mreturn\u001b[0m \u001b[0mlen\u001b[0m\u001b[1;33m(\u001b[0m\u001b[0mrecords\u001b[0m\u001b[1;33m)\u001b[0m\u001b[1;33m,\u001b[0m \u001b[1;36m0\u001b[0m\u001b[1;33m\u001b[0m\u001b[1;33m\u001b[0m\u001b[0m\n\u001b[0m\u001b[0;32m    383\u001b[0m \u001b[1;33m\u001b[0m\u001b[0m\n\u001b[0;32m    384\u001b[0m     \u001b[1;31m# Select filename, lineno, func_name to track frames with\u001b[0m\u001b[1;33m\u001b[0m\u001b[1;33m\u001b[0m\u001b[1;33m\u001b[0m\u001b[0m\n",
      "\u001b[1;31mTypeError\u001b[0m: object of type 'NoneType' has no len()"
     ]
    }
   ],
   "source": [
    "start = time.time()\n",
    "# training steps\n",
    "m = 200\n",
    "n = 50\n",
    "signal = 1\n",
    "sigma = 0.5\n",
    "num_support = 8\n",
    "\n",
    "# n_informative = 8\n",
    "# n_redundant = 2\n",
    "# n_classes = 5\n",
    "# num_support = n_informative\n",
    "\n",
    "seed = 3\n",
    "np.random.seed(seed)\n",
    "torch.manual_seed(seed)\n",
    "\n",
    "X, Y, beta_star, cov = generate_data(m, n, signal, sigma, num_support, seed=seed)\n",
    "# X, Y = generate_data(m, n, n_informative, n_redundant, n_classes, seed=seed)  \n",
    "      \n",
    "\n",
    "x_train, x_test, y_train, y_test = train_test_split(X, Y, test_size=0.3, random_state=seed)\n",
    "\n",
    "actor = Actor(obs_dim=n, action_dim=n)\n",
    "actor_optimizer = optim.Adam(actor.parameters(), lr=1e-3)   # 不能太大了，1e-2就不行\n",
    "# critic = Critic(obs_dim=n)\n",
    "# critic_optimizer = optim.Adam(critic.parameters(), lr=1e-3)\n",
    "\n",
    "\n",
    "\n",
    "action_select = []\n",
    "dictionary = dict()\n",
    "r_list = []\n",
    "\n",
    "r_baseline = torch.tensor(0)\n",
    "\n",
    "for step in range(150):\n",
    "    print('step: ', step)\n",
    "    \n",
    "    X_train, Y_train = get_data(x_train, y_train, batch_size=64)\n",
    "#     obs = np.concatenate((X_train, Y_train), axis=1)\n",
    "    actions, log_probs, entropy = actor(X_train)\n",
    "    action_select.append(actions.detach().numpy().mean(axis=0))\n",
    "    \n",
    "    # r_baseline = critic(X_train)\n",
    "    # r_baseline = r_baseline.squeeze()\n",
    "    \n",
    "    \n",
    "    rewards = compute_reward(x_train, y_train, x_test, y_test, actions, num_iter=800, lr=1e-2, batch_size=64, dictionary=dictionary)\n",
    "    r_list.append(rewards.mean())\n",
    "    print(f'average reward: {rewards.mean()}')\n",
    "    rewards = torch.tensor(rewards, dtype=torch.float32)\n",
    "    \n",
    "    r_baseline = 0.95 * r_baseline + 0.05 *rewards.mean()\n",
    "    \n",
    "    # update actor\n",
    "    actor_loss =  ((rewards - r_baseline) * log_probs.sum(dim=-1)).mean()\n",
    "    # actor_loss =  (rewards * log_probs.sum(dim=-1)).mean()\n",
    "    actor_optimizer.zero_grad()\n",
    "    actor_loss.backward()       # retain_graph=True if critic is used\n",
    "    actor_optimizer.step()\n",
    "    # print(f'actor loss: {actor_loss.item()}')\n",
    "    \n",
    "    # actor_loss =  (rewards * log_probs.sum(dim=-1)).mean()\n",
    "    # actor_optimizer.zero_grad()\n",
    "    # actor_loss.backward()\n",
    "    # actor_optimizer.step()\n",
    "    # print(f'actor loss: {actor_loss.item()}\\n')\n",
    "    \n",
    "    # update critic\n",
    "    # critic_loss = F.mse_loss(r_baseline, rewards)\n",
    "    # critic_optimizer.zero_grad()\n",
    "    # critic_loss.backward()\n",
    "    # critic_optimizer.step()\n",
    "    # print(f'critic loss: {critic_loss.item()}\\n')\n",
    "    # if step > 6:\n",
    "    #     if (abs(r_list[-1] - r_list[-2]) < 1e-3) & (abs(r_list[-2] - r_list[-3]) < 1e-3) \\\n",
    "    #         & (abs(r_list[-3] - r_list[-4]) < 1e-3) & (abs(r_list[-4] - r_list[-5]) < 1e-3):\n",
    "    #         print(f'converge at step {step}')\n",
    "    #         break\n",
    "\n",
    "end = time.time()\n",
    "\n",
    "print(datetime.timedelta(seconds=end - start))"
   ]
  },
  {
   "cell_type": "code",
   "execution_count": 8,
   "id": "189a98ec",
   "metadata": {
    "ExecuteTime": {
     "end_time": "2021-11-29T03:04:02.004993Z",
     "start_time": "2021-11-29T03:03:59.846747Z"
    }
   },
   "outputs": [
    {
     "data": {
      "image/png": "[encoded data removed]",
      "text/plain": [
       "<Figure size 432x288 with 1 Axes>"
      ]
     },
     "metadata": {
      "needs_background": "light"
     },
     "output_type": "display_data"
    },
    {
     "data": {
      "image/png": "[encoded data removed]",
      "text/plain": [
       "<Figure size 1152x576 with 24 Axes>"
      ]
     },
     "metadata": {
      "needs_background": "light"
     },
     "output_type": "display_data"
    }
   ],
   "source": [
    "plt.figure()\n",
    "plt.plot(r_list)\n",
    "# plt.xlim(0, 1000)\n",
    "# plt.ylabel('Mean Square Error')\n",
    "# plt.yticks([12, 20, 40, 60, 80, 100, 120])\n",
    "# plt.hlines(12, 0, 1000, color='r')\n",
    "\n",
    "\n",
    "# print(np.where(beta_star != 0)[0] + 1)\n",
    "# print(beta_star[:8])\n",
    "action_select = np.array(action_select)\n",
    "\n",
    "fig, axes = plt.subplots(int(n/8), 8, figsize=(16, 8), sharex=False, sharey=True)\n",
    "# plt.subplots_adjust(wspace=0.1, hspace=0.1)\n",
    "# fig.tight_layout()\n",
    "num = 0\n",
    "for i in range(int(n/8)):\n",
    "    for j in range(8):\n",
    "        axes[i, j].plot(pd.Series(action_select[:, num]).rolling(10).mean())\n",
    "        axes[i, j].set_title(f'covariate: {num+1}')\n",
    "        if i != int(n/8)-1: axes[i, j].set_xticks([]) \n",
    "        num += 1"
   ]
  },
  {
   "cell_type": "markdown",
   "id": "aabe0d88",
   "metadata": {},
   "source": [
    "# natural policy gradient"
   ]
  },
  {
   "cell_type": "code",
   "execution_count": 5,
   "id": "4d6d8ebf",
   "metadata": {
    "ExecuteTime": {
     "end_time": "2022-11-19T09:23:41.250272Z",
     "start_time": "2022-11-19T09:23:41.228305Z"
    }
   },
   "outputs": [],
   "source": [
    "def compute_reward(X_train, Y_train, X_test, Y_test, actions, hiddens=(128, ), num_iter=500, lr=1e-3, batch_size='auto', dictionary=dict()):\n",
    "    reward_list = []\n",
    "    for i, action in enumerate(actions):\n",
    "        \n",
    "        idx = np.where(action == 1)[0]\n",
    "        \n",
    "        if tuple(idx) in dictionary:\n",
    "            reward_list.append(dictionary[tuple(idx)])\n",
    "        else:\n",
    "            X_select = X_train[:, idx]        \n",
    "#             reg_clf = MLPRegressor(hidden_layer_sizes=hiddens, random_state=i, learning_rate='adaptive', batch_size=batch_size,\n",
    "#                                      learning_rate_init=lr, max_iter=num_iter, tol=1e-3, alpha=0.01, early_stopping=True)\n",
    "#             reg_clf = LinearRegression(fit_intercept=False)\n",
    "#             reg_clf = Ridge(alpha=0.05)\n",
    "            # reg_clf = RandomForestRegressor(n_estimators=50, max_depth=5)\n",
    "#             reg_clf = ExtraTreesRegressor(n_estimators=50, max_depth=5)\n",
    "            reg_clf = MLPClassifier(hidden_layer_sizes=hiddens, random_state=i, learning_rate='adaptive', batch_size=batch_size,\n",
    "                                     learning_rate_init=lr, max_iter=num_iter, tol=1e-3, alpha=0.01, early_stopping=True)\n",
    "            # reg_clf = RandomClassifier(n_estimators=50, max_depth=5)\n",
    "#             reg_clf = ExtraTreesClassifier(n_estimators=50, max_depth=5)\n",
    "            reg_clf.fit(X_select, Y_train)\n",
    "            X_select = X_test[:, idx] \n",
    "            score = reg_clf.score(X_select, Y_test)\n",
    "            # mse = np.mean((Y_test - regressor.predict(X_select))**2)\n",
    "            dictionary[tuple(idx)] = score\n",
    "            reward_list.append(score)\n",
    "        \n",
    "    return np.array(reward_list)"
   ]
  },
  {
   "cell_type": "code",
   "execution_count": 6,
   "id": "8f6db26e",
   "metadata": {
    "ExecuteTime": {
     "end_time": "2022-11-19T09:25:58.732359Z",
     "start_time": "2022-11-19T09:23:53.149922Z"
    },
    "scrolled": true
   },
   "outputs": [
    {
     "name": "stdout",
     "output_type": "stream",
     "text": [
      "step:  0\n",
      "average reward: 0.7218749999999999\n",
      "step:  1\n",
      "average reward: 0.7096354166666667\n",
      "step:  2\n",
      "average reward: 0.7354166666666667\n",
      "step:  3\n",
      "average reward: 0.7278645833333333\n",
      "step:  4\n",
      "average reward: 0.7221354166666667\n",
      "step:  5\n",
      "average reward: 0.7307291666666667\n",
      "step:  6\n",
      "average reward: 0.7380208333333333\n",
      "step:  7\n",
      "average reward: 0.7276041666666666\n",
      "step:  8\n",
      "average reward: 0.7377604166666667\n",
      "step:  9\n",
      "average reward: 0.7643229166666666\n",
      "step:  10\n",
      "average reward: 0.7611979166666667\n",
      "step:  11\n",
      "average reward: 0.7424479166666667\n",
      "step:  12\n",
      "average reward: 0.7484375\n",
      "step:  13\n",
      "average reward: 0.7588541666666666\n",
      "step:  14\n",
      "average reward: 0.7736979166666667\n",
      "step:  15\n",
      "average reward: 0.7614583333333333\n",
      "step:  16\n",
      "average reward: 0.7885416666666667\n",
      "step:  17\n",
      "average reward: 0.7856770833333333\n",
      "step:  18\n",
      "average reward: 0.7815104166666667\n",
      "step:  19\n",
      "average reward: 0.7927083333333333\n",
      "step:  20\n",
      "average reward: 0.79140625\n",
      "step:  21\n",
      "average reward: 0.79375\n",
      "step:  22\n",
      "average reward: 0.7971354166666667\n",
      "step:  23\n",
      "average reward: 0.7796875\n",
      "step:  24\n",
      "average reward: 0.8236979166666667\n",
      "step:  25\n",
      "average reward: 0.8145833333333332\n",
      "step:  26\n",
      "average reward: 0.8091145833333333\n",
      "step:  27\n",
      "average reward: 0.8122395833333332\n",
      "step:  28\n",
      "average reward: 0.8203125\n",
      "step:  29\n",
      "average reward: 0.82109375\n",
      "step:  30\n",
      "average reward: 0.8127604166666667\n",
      "step:  31\n",
      "average reward: 0.83125\n",
      "step:  32\n",
      "average reward: 0.8341145833333334\n",
      "step:  33\n",
      "average reward: 0.8351562499999999\n",
      "step:  34\n",
      "average reward: 0.83046875\n",
      "step:  35\n",
      "average reward: 0.8226562500000001\n",
      "step:  36\n",
      "average reward: 0.8369791666666667\n",
      "step:  37\n",
      "average reward: 0.8184895833333333\n",
      "step:  38\n",
      "average reward: 0.83671875\n",
      "step:  39\n",
      "average reward: 0.83515625\n",
      "step:  40\n",
      "average reward: 0.8281249999999999\n",
      "step:  41\n",
      "average reward: 0.834375\n",
      "step:  42\n",
      "average reward: 0.8106770833333334\n",
      "step:  43\n",
      "average reward: 0.8544270833333334\n",
      "step:  44\n",
      "average reward: 0.8427083333333334\n",
      "step:  45\n",
      "average reward: 0.840625\n",
      "step:  46\n",
      "average reward: 0.8463541666666667\n",
      "step:  47\n",
      "average reward: 0.8432291666666667\n",
      "step:  48\n",
      "average reward: 0.8375\n",
      "step:  49\n",
      "average reward: 0.8651041666666668\n",
      "step:  50\n",
      "average reward: 0.8471354166666667\n",
      "step:  51\n",
      "average reward: 0.8463541666666667\n",
      "step:  52\n",
      "average reward: 0.8541666666666666\n",
      "step:  53\n",
      "average reward: 0.8630208333333333\n",
      "step:  54\n"
     ]
    },
    {
     "name": "stderr",
     "output_type": "stream",
     "text": [
      "D:\\miniconda3\\lib\\site-packages\\sklearn\\neural_network\\_multilayer_perceptron.py:699: UserWarning: Training interrupted by user.\n",
      "  warnings.warn(\"Training interrupted by user.\")\n"
     ]
    },
    {
     "name": "stdout",
     "output_type": "stream",
     "text": [
      "average reward: 0.8447916666666666\n",
      "step:  55\n"
     ]
    },
    {
     "ename": "KeyboardInterrupt",
     "evalue": "",
     "output_type": "error",
     "traceback": [
      "\u001b[1;31m---------------------------------------------------------------------------\u001b[0m",
      "\u001b[1;31mKeyboardInterrupt\u001b[0m                         Traceback (most recent call last)",
      "\u001b[1;32m<ipython-input-6-fd7ff24ebe31>\u001b[0m in \u001b[0;36m<module>\u001b[1;34m\u001b[0m\n\u001b[0;32m     45\u001b[0m \u001b[1;33m\u001b[0m\u001b[0m\n\u001b[0;32m     46\u001b[0m \u001b[1;33m\u001b[0m\u001b[0m\n\u001b[1;32m---> 47\u001b[1;33m     \u001b[0mrewards\u001b[0m \u001b[1;33m=\u001b[0m \u001b[0mcompute_reward\u001b[0m\u001b[1;33m(\u001b[0m\u001b[0mx_train\u001b[0m\u001b[1;33m,\u001b[0m \u001b[0my_train\u001b[0m\u001b[1;33m,\u001b[0m \u001b[0mx_test\u001b[0m\u001b[1;33m,\u001b[0m \u001b[0my_test\u001b[0m\u001b[1;33m,\u001b[0m \u001b[0mactions\u001b[0m\u001b[1;33m,\u001b[0m \u001b[0mhiddens\u001b[0m\u001b[1;33m=\u001b[0m\u001b[1;33m(\u001b[0m\u001b[1;36m128\u001b[0m\u001b[1;33m,\u001b[0m \u001b[1;33m)\u001b[0m\u001b[1;33m,\u001b[0m \u001b[0mnum_iter\u001b[0m\u001b[1;33m=\u001b[0m\u001b[1;36m1000\u001b[0m\u001b[1;33m,\u001b[0m \u001b[0mlr\u001b[0m\u001b[1;33m=\u001b[0m\u001b[1;36m1e-2\u001b[0m\u001b[1;33m,\u001b[0m \u001b[0mbatch_size\u001b[0m\u001b[1;33m=\u001b[0m\u001b[0mbatch_size\u001b[0m\u001b[1;33m,\u001b[0m \u001b[0mdictionary\u001b[0m\u001b[1;33m=\u001b[0m\u001b[0mdictionary\u001b[0m\u001b[1;33m)\u001b[0m\u001b[1;33m\u001b[0m\u001b[1;33m\u001b[0m\u001b[0m\n\u001b[0m\u001b[0;32m     48\u001b[0m     \u001b[0mr_list\u001b[0m\u001b[1;33m.\u001b[0m\u001b[0mappend\u001b[0m\u001b[1;33m(\u001b[0m\u001b[0mrewards\u001b[0m\u001b[1;33m.\u001b[0m\u001b[0mmean\u001b[0m\u001b[1;33m(\u001b[0m\u001b[1;33m)\u001b[0m\u001b[1;33m)\u001b[0m\u001b[1;33m\u001b[0m\u001b[1;33m\u001b[0m\u001b[0m\n\u001b[0;32m     49\u001b[0m     \u001b[0mprint\u001b[0m\u001b[1;33m(\u001b[0m\u001b[1;34mf'average reward: {rewards.mean()}'\u001b[0m\u001b[1;33m)\u001b[0m\u001b[1;33m\u001b[0m\u001b[1;33m\u001b[0m\u001b[0m\n",
      "\u001b[1;32m<ipython-input-5-5aaf54ab6456>\u001b[0m in \u001b[0;36mcompute_reward\u001b[1;34m(X_train, Y_train, X_test, Y_test, actions, hiddens, num_iter, lr, batch_size, dictionary)\u001b[0m\n\u001b[0;32m     19\u001b[0m             \u001b[1;31m# reg_clf = RandomClassifier(n_estimators=50, max_depth=5)\u001b[0m\u001b[1;33m\u001b[0m\u001b[1;33m\u001b[0m\u001b[1;33m\u001b[0m\u001b[0m\n\u001b[0;32m     20\u001b[0m \u001b[1;31m#             reg_clf = ExtraTreesClassifier(n_estimators=50, max_depth=5)\u001b[0m\u001b[1;33m\u001b[0m\u001b[1;33m\u001b[0m\u001b[1;33m\u001b[0m\u001b[0m\n\u001b[1;32m---> 21\u001b[1;33m             \u001b[0mreg_clf\u001b[0m\u001b[1;33m.\u001b[0m\u001b[0mfit\u001b[0m\u001b[1;33m(\u001b[0m\u001b[0mX_select\u001b[0m\u001b[1;33m,\u001b[0m \u001b[0mY_train\u001b[0m\u001b[1;33m)\u001b[0m\u001b[1;33m\u001b[0m\u001b[1;33m\u001b[0m\u001b[0m\n\u001b[0m\u001b[0;32m     22\u001b[0m             \u001b[0mX_select\u001b[0m \u001b[1;33m=\u001b[0m \u001b[0mX_test\u001b[0m\u001b[1;33m[\u001b[0m\u001b[1;33m:\u001b[0m\u001b[1;33m,\u001b[0m \u001b[0midx\u001b[0m\u001b[1;33m]\u001b[0m\u001b[1;33m\u001b[0m\u001b[1;33m\u001b[0m\u001b[0m\n\u001b[0;32m     23\u001b[0m             \u001b[0mscore\u001b[0m \u001b[1;33m=\u001b[0m \u001b[0mreg_clf\u001b[0m\u001b[1;33m.\u001b[0m\u001b[0mscore\u001b[0m\u001b[1;33m(\u001b[0m\u001b[0mX_select\u001b[0m\u001b[1;33m,\u001b[0m \u001b[0mY_test\u001b[0m\u001b[1;33m)\u001b[0m\u001b[1;33m\u001b[0m\u001b[1;33m\u001b[0m\u001b[0m\n",
      "\u001b[1;32mD:\\miniconda3\\lib\\site-packages\\sklearn\\neural_network\\_multilayer_perceptron.py\u001b[0m in \u001b[0;36mfit\u001b[1;34m(self, X, y)\u001b[0m\n\u001b[0;32m    750\u001b[0m             \u001b[0mReturns\u001b[0m \u001b[0ma\u001b[0m \u001b[0mtrained\u001b[0m \u001b[0mMLP\u001b[0m \u001b[0mmodel\u001b[0m\u001b[1;33m.\u001b[0m\u001b[1;33m\u001b[0m\u001b[1;33m\u001b[0m\u001b[0m\n\u001b[0;32m    751\u001b[0m         \"\"\"\n\u001b[1;32m--> 752\u001b[1;33m         \u001b[1;32mreturn\u001b[0m \u001b[0mself\u001b[0m\u001b[1;33m.\u001b[0m\u001b[0m_fit\u001b[0m\u001b[1;33m(\u001b[0m\u001b[0mX\u001b[0m\u001b[1;33m,\u001b[0m \u001b[0my\u001b[0m\u001b[1;33m,\u001b[0m \u001b[0mincremental\u001b[0m\u001b[1;33m=\u001b[0m\u001b[1;32mFalse\u001b[0m\u001b[1;33m)\u001b[0m\u001b[1;33m\u001b[0m\u001b[1;33m\u001b[0m\u001b[0m\n\u001b[0m\u001b[0;32m    753\u001b[0m \u001b[1;33m\u001b[0m\u001b[0m\n\u001b[0;32m    754\u001b[0m     \u001b[1;32mdef\u001b[0m \u001b[0m_check_solver\u001b[0m\u001b[1;33m(\u001b[0m\u001b[0mself\u001b[0m\u001b[1;33m)\u001b[0m\u001b[1;33m:\u001b[0m\u001b[1;33m\u001b[0m\u001b[1;33m\u001b[0m\u001b[0m\n",
      "\u001b[1;32mD:\\miniconda3\\lib\\site-packages\\sklearn\\neural_network\\_multilayer_perceptron.py\u001b[0m in \u001b[0;36m_fit\u001b[1;34m(self, X, y, incremental)\u001b[0m\n\u001b[0;32m    408\u001b[0m         \u001b[1;32mif\u001b[0m \u001b[0mfirst_pass\u001b[0m\u001b[1;33m:\u001b[0m\u001b[1;33m\u001b[0m\u001b[1;33m\u001b[0m\u001b[0m\n\u001b[0;32m    409\u001b[0m             \u001b[1;31m# First time training the model\u001b[0m\u001b[1;33m\u001b[0m\u001b[1;33m\u001b[0m\u001b[1;33m\u001b[0m\u001b[0m\n\u001b[1;32m--> 410\u001b[1;33m             \u001b[0mself\u001b[0m\u001b[1;33m.\u001b[0m\u001b[0m_initialize\u001b[0m\u001b[1;33m(\u001b[0m\u001b[0my\u001b[0m\u001b[1;33m,\u001b[0m \u001b[0mlayer_units\u001b[0m\u001b[1;33m,\u001b[0m \u001b[0mX\u001b[0m\u001b[1;33m.\u001b[0m\u001b[0mdtype\u001b[0m\u001b[1;33m)\u001b[0m\u001b[1;33m\u001b[0m\u001b[1;33m\u001b[0m\u001b[0m\n\u001b[0m\u001b[0;32m    411\u001b[0m \u001b[1;33m\u001b[0m\u001b[0m\n\u001b[0;32m    412\u001b[0m         \u001b[1;31m# Initialize lists\u001b[0m\u001b[1;33m\u001b[0m\u001b[1;33m\u001b[0m\u001b[1;33m\u001b[0m\u001b[0m\n",
      "\u001b[1;32mD:\\miniconda3\\lib\\site-packages\\sklearn\\neural_network\\_multilayer_perceptron.py\u001b[0m in \u001b[0;36m_initialize\u001b[1;34m(self, y, layer_units, dtype)\u001b[0m\n\u001b[0;32m    343\u001b[0m         \u001b[1;32mfor\u001b[0m \u001b[0mi\u001b[0m \u001b[1;32min\u001b[0m \u001b[0mrange\u001b[0m\u001b[1;33m(\u001b[0m\u001b[0mself\u001b[0m\u001b[1;33m.\u001b[0m\u001b[0mn_layers_\u001b[0m \u001b[1;33m-\u001b[0m \u001b[1;36m1\u001b[0m\u001b[1;33m)\u001b[0m\u001b[1;33m:\u001b[0m\u001b[1;33m\u001b[0m\u001b[1;33m\u001b[0m\u001b[0m\n\u001b[0;32m    344\u001b[0m             coef_init, intercept_init = self._init_coef(\n\u001b[1;32m--> 345\u001b[1;33m                 \u001b[0mlayer_units\u001b[0m\u001b[1;33m[\u001b[0m\u001b[0mi\u001b[0m\u001b[1;33m]\u001b[0m\u001b[1;33m,\u001b[0m \u001b[0mlayer_units\u001b[0m\u001b[1;33m[\u001b[0m\u001b[0mi\u001b[0m \u001b[1;33m+\u001b[0m \u001b[1;36m1\u001b[0m\u001b[1;33m]\u001b[0m\u001b[1;33m,\u001b[0m \u001b[0mdtype\u001b[0m\u001b[1;33m\u001b[0m\u001b[1;33m\u001b[0m\u001b[0m\n\u001b[0m\u001b[0;32m    346\u001b[0m             )\n\u001b[0;32m    347\u001b[0m             \u001b[0mself\u001b[0m\u001b[1;33m.\u001b[0m\u001b[0mcoefs_\u001b[0m\u001b[1;33m.\u001b[0m\u001b[0mappend\u001b[0m\u001b[1;33m(\u001b[0m\u001b[0mcoef_init\u001b[0m\u001b[1;33m)\u001b[0m\u001b[1;33m\u001b[0m\u001b[1;33m\u001b[0m\u001b[0m\n",
      "\u001b[1;32mD:\\miniconda3\\lib\\site-packages\\sklearn\\neural_network\\_multilayer_perceptron.py\u001b[0m in \u001b[0;36m_init_coef\u001b[1;34m(self, fan_in, fan_out, dtype)\u001b[0m\n\u001b[0;32m    367\u001b[0m         \u001b[1;31m# Generate weights and bias:\u001b[0m\u001b[1;33m\u001b[0m\u001b[1;33m\u001b[0m\u001b[1;33m\u001b[0m\u001b[0m\n\u001b[0;32m    368\u001b[0m         coef_init = self._random_state.uniform(\n\u001b[1;32m--> 369\u001b[1;33m             \u001b[1;33m-\u001b[0m\u001b[0minit_bound\u001b[0m\u001b[1;33m,\u001b[0m \u001b[0minit_bound\u001b[0m\u001b[1;33m,\u001b[0m \u001b[1;33m(\u001b[0m\u001b[0mfan_in\u001b[0m\u001b[1;33m,\u001b[0m \u001b[0mfan_out\u001b[0m\u001b[1;33m)\u001b[0m\u001b[1;33m\u001b[0m\u001b[1;33m\u001b[0m\u001b[0m\n\u001b[0m\u001b[0;32m    370\u001b[0m         )\n\u001b[0;32m    371\u001b[0m         \u001b[0mintercept_init\u001b[0m \u001b[1;33m=\u001b[0m \u001b[0mself\u001b[0m\u001b[1;33m.\u001b[0m\u001b[0m_random_state\u001b[0m\u001b[1;33m.\u001b[0m\u001b[0muniform\u001b[0m\u001b[1;33m(\u001b[0m\u001b[1;33m-\u001b[0m\u001b[0minit_bound\u001b[0m\u001b[1;33m,\u001b[0m \u001b[0minit_bound\u001b[0m\u001b[1;33m,\u001b[0m \u001b[0mfan_out\u001b[0m\u001b[1;33m)\u001b[0m\u001b[1;33m\u001b[0m\u001b[1;33m\u001b[0m\u001b[0m\n",
      "\u001b[1;31mKeyboardInterrupt\u001b[0m: "
     ]
    }
   ],
   "source": [
    "start = time.time()\n",
    "# training steps\n",
    "m = 200\n",
    "n = 50\n",
    "signal = 1\n",
    "sigma = 0.5\n",
    "num_support = 8\n",
    "batch_size = 64\n",
    "\n",
    "seed = 40\n",
    "np.random.seed(seed)\n",
    "torch.manual_seed(seed)\n",
    "\n",
    "X, Y, beta_star, cov = generate_data(m, n, signal, sigma, num_support, seed=seed)\n",
    "# X, Y = multi_classes(m, n, n_informative, n_redundant, n_repeated, n_classes, seed=seed)  \n",
    "\n",
    "x_train, x_test, y_train, y_test = train_test_split(X, Y, test_size=0.3, random_state=seed)\n",
    "\n",
    "\n",
    "# actor = Actor(obs_dim=n, action_dim=n)\n",
    "# actor_optimizer = optim.Adam(actor.parameters(), lr=1e-3)   # 不能太大了，1e-2就不行\n",
    "\n",
    "\n",
    "\n",
    "r_list = []\n",
    "r_baseline = 0\n",
    "dictionary = dict()\n",
    "theta = np.zeros(n) + 0.5\n",
    "p_list = []\n",
    "w_norm = []\n",
    "\n",
    "for step in range(150):                          # feature = 50, 150,    # feature = 300, >450, 但300似乎就把把正确的筛出来了, 用400\n",
    "    print('step: ', step)\n",
    "    \n",
    "    p_list.append(theta)\n",
    "    \n",
    "    actions = np.zeros((batch_size, n))\n",
    "    p = torch.from_numpy(theta)\n",
    "    for i in range(batch_size):\n",
    "        action = torch.bernoulli(p)\n",
    "        if action.sum == 0:\n",
    "            idx = np.random.randint(0, n, int(n/3))\n",
    "            action[idx] = 1\n",
    "        actions[i, :] = action.numpy()\n",
    "    \n",
    "    \n",
    "    rewards = compute_reward(x_train, y_train, x_test, y_test, actions, hiddens=(128, ), num_iter=1000, lr=1e-2, batch_size=batch_size, dictionary=dictionary)\n",
    "    r_list.append(rewards.mean())\n",
    "    print(f'average reward: {rewards.mean()}')\n",
    "#     rewards = torch.tensor(rewards, dtype=torch.float32)\n",
    "    \n",
    "    r_baseline = 0.95 * r_baseline + 0.05 * rewards.mean()\n",
    "    \n",
    "    # sampled natural policy gradient\n",
    "    log_pi_grad = actions / p - (1 - actions)/(1 - p)\n",
    "    log_pi_grad = log_pi_grad.numpy()\n",
    "    \n",
    "    reg = Ridge(alpha=0.1)\n",
    "    reg.fit(log_pi_grad, rewards)\n",
    "    w = reg.coef_\n",
    "    \n",
    "    w_norm.append(np.linalg.norm(w))\n",
    "    \n",
    "    theta = theta + 1 * w    \n",
    "    theta = np.clip(theta, 0.02, 0.98)\n",
    "\n",
    "\n",
    "#     if step > 6:\n",
    "#         if (abs(r_list[-1] - r_list[-2]) < 1e-3) & (abs(r_list[-2] - r_list[-3]) < 1e-3) \\\n",
    "#             & (abs(r_list[-3] - r_list[-4]) < 1e-3) & (abs(r_list[-4] - r_list[-5]) < 1e-3):\n",
    "#             print(f'converge at step {step}')\n",
    "#             break\n",
    "\n",
    "    if np.linalg.norm(theta - p_list[-1]) < 1e-3:\n",
    "        print(f'converge at step {step}')\n",
    "        break\n",
    "\n",
    "end = time.time()\n",
    "\n",
    "print(datetime.timedelta(seconds=end - start))"
   ]
  },
  {
   "cell_type": "code",
   "execution_count": 35,
   "id": "749b10c6",
   "metadata": {
    "ExecuteTime": {
     "end_time": "2022-08-10T13:54:15.843180Z",
     "start_time": "2022-08-10T13:54:14.397047Z"
    },
    "scrolled": true
   },
   "outputs": [
    {
     "name": "stdout",
     "output_type": "stream",
     "text": [
      "[0.98 0.76 0.98 0.73 0.89 0.91 0.96 0.7  0.56 0.54 0.51 0.42 0.34 0.5\n",
      " 0.52 0.38 0.47 0.4  0.72 0.45 0.53 0.5  0.51 0.48 0.53 0.54 0.49 0.43\n",
      " 0.41 0.39 0.51 0.51 0.49 0.48 0.53 0.56 0.45 0.49 0.49 0.57 0.43 0.5\n",
      " 0.6  0.57 0.43 0.52 0.46 0.38 0.42 0.55 0.48 0.52 0.32 0.51 0.52 0.5\n",
      " 0.48 0.49 0.33 0.72 0.47 0.5  0.38 0.48 0.42 0.5  0.45 0.48 0.44 0.44\n",
      " 0.51 0.43 0.55 0.5  0.48 0.46 0.42 0.47 0.56 0.62 0.53 0.5  0.53 0.59\n",
      " 0.47 0.48 0.49 0.38 0.66 0.44 0.51 0.47 0.53 0.49 0.54 0.48 0.54 0.55\n",
      " 0.53 0.5  0.49 0.58 0.53 0.84 0.39 0.43 0.48 0.5  0.31 0.54 0.45 0.44\n",
      " 0.48 0.5  0.67 0.49 0.53 0.53 0.42 0.44 0.47 0.49 0.33 0.51 0.49 0.54\n",
      " 0.61 0.5  0.52 0.55 0.58 0.46 0.49 0.4  0.53 0.45 0.3  0.53 0.41 0.44\n",
      " 0.47 0.5  0.51 0.49 0.48 0.46 0.51 0.53 0.51 0.53 0.31 0.74 0.68 0.47\n",
      " 0.49 0.49 0.52 0.34 0.44 0.42 0.4  0.42 0.52 0.47 0.41 0.54 0.53 0.38\n",
      " 0.47 0.37 0.52 0.51 0.54 0.56 0.39 0.48 0.43 0.52 0.49 0.19 0.43 0.41\n",
      " 0.4  0.43 0.51 0.53 0.46 0.54 0.43 0.5  0.34 0.5  0.26 0.39 0.51 0.52\n",
      " 0.51 0.54 0.5  0.43 0.45 0.46 0.44 0.63 0.53 0.41 0.52 0.52 0.31 0.5\n",
      " 0.51 0.43 0.56 0.51 0.61 0.46 0.51 0.51 0.32 0.49 0.51 0.49 0.51 0.65\n",
      " 0.5  0.49 0.69 0.49 0.38 0.55 0.57 0.46 0.5  0.45 0.41 0.5  0.43 0.48\n",
      " 0.42 0.51 0.51 0.49 0.51 0.52 0.39 0.57 0.46 0.56 0.57 0.5  0.44 0.44\n",
      " 0.47 0.5  0.54 0.44 0.52 0.35 0.48 0.44 0.5  0.52 0.5  0.49 0.47 0.48\n",
      " 0.52 0.57 0.44 0.43 0.51 0.43 0.53 0.47 0.44 0.48 0.53 0.44 0.46 0.45\n",
      " 0.35 0.41 0.55 0.54 0.47 0.48 0.41 0.54 0.46 0.44 0.48 0.51 0.51 0.47\n",
      " 0.48 0.31 0.52 0.4  0.45 0.58]\n",
      "[0 2 5 6]\n",
      "[  0   2   6   5   4 103   1 151   3  18  59   7 226 152 114  88 223 203\n",
      "  79 214 126  42  83 130 299 101 230  39  43 248 245 267   8  35 173 247\n",
      " 212  78  49 282 129  97  72 229 165  94 197 109   9 254  96 287 187 125\n",
      " 172 283  25 116  92  24 276 272  20 166 147  82 137 149 117  80 134 102\n",
      " 204  34  98 185  45 207  14 243 296 170  51 156 195 128 206  54 266 261\n",
      " 177 256 162 184 292 291 123 239 146  31  30  53 210  22 240 217 194  70\n",
      " 142 213 242 216  10 171 270 222 148 196  90 220  81 113 191  41 262 253\n",
      "  61 127  73 189 141 260 198  65 249  55  99 224 209  13 107 235  21 232\n",
      " 178 154 241  32 227  37 219 263  93 225  26 221  86 143 124 155 100  57\n",
      " 121 115 132  38  56 275 258 144  95  67  74  50  63 290 106 237  85 294\n",
      "  33  23 265 285 175 112  91 293 120 140 284 168  84 252 264 273  77 153\n",
      " 163  16  60 201 288 231  75 215 278  46 246 145 131 186 135  19 233 279\n",
      " 200 110  36 298  66 259 111 274 268  89 277 255 158  68 289 202 250 139\n",
      "  69 251 119  71  40 105 269 180  27 188 211 199 183 236  44 271 176 159\n",
      "  76  64 118 161  11  48 238 138 281 234 181 205 286  28 164 160 182 133\n",
      "  17 297 244 193 104  29 174  15  87 167 228  47  62 169 280 257  12 157\n",
      " 190 122  58  52 218 108 208 150 295 136 192 179]\n"
     ]
    },
    {
     "data": {
      "text/plain": [
       "[<matplotlib.lines.Line2D at 0x14edbabb588>]"
      ]
     },
     "execution_count": 35,
     "metadata": {},
     "output_type": "execute_result"
    },
    {
     "data": {
      "image/png": "[encoded data removed]",
      "text/plain": [
       "<Figure size 432x288 with 1 Axes>"
      ]
     },
     "metadata": {
      "needs_background": "light"
     },
     "output_type": "display_data"
    },
    {
     "data": {
      "image/png": "[encoded data removed]",
      "text/plain": [
       "<Figure size 432x288 with 1 Axes>"
      ]
     },
     "metadata": {
      "needs_background": "light"
     },
     "output_type": "display_data"
    }
   ],
   "source": [
    "plt.plot(r_list)\n",
    "print(np.round(theta, 2))\n",
    "print(np.where(theta > 0.90)[0])\n",
    "print(np.argsort(theta)[::-1])\n",
    "plt.figure()\n",
    "plt.plot(w_norm)"
   ]
  },
  {
   "cell_type": "code",
   "execution_count": 37,
   "id": "f22569f5",
   "metadata": {
    "ExecuteTime": {
     "end_time": "2022-08-10T13:56:25.128884Z",
     "start_time": "2022-08-10T13:55:53.260114Z"
    }
   },
   "outputs": [
    {
     "data": {
      "image/png": "[encoded data removed]",
      "text/plain": [
       "<Figure size 1440x1440 with 300 Axes>"
      ]
     },
     "metadata": {
      "needs_background": "light"
     },
     "output_type": "display_data"
    }
   ],
   "source": [
    "probs = np.array(p_list)\n",
    "fig, axes = plt.subplots(int(n/10+0.9), 10, figsize=(20, 20), sharex=False, sharey=True)\n",
    "# plt.subplots_adjust(\n",
    "# top=0.965,\n",
    "# bottom=0.09,\n",
    "# left=0.03,\n",
    "# right=0.83,\n",
    "# hspace=0.52,\n",
    "# wspace=0.18)\n",
    "# fig.tight_layout()\n",
    "num = 0\n",
    "for i in range(int(n/10+0.9)):\n",
    "    for j in range(10):\n",
    "        axes[i, j].plot(pd.Series(np.array(probs)[:, num]).rolling(10).mean())\n",
    "        axes[i, j].set_title(f'var: {num+1}')\n",
    "        if i != int(n/8)-1: axes[i, j].set_xticks([]) \n",
    "        num += 1"
   ]
  },
  {
   "cell_type": "code",
   "execution_count": 10,
   "id": "dc7e2053",
   "metadata": {
    "ExecuteTime": {
     "end_time": "2022-08-09T07:10:09.811374Z",
     "start_time": "2022-08-09T07:09:58.523563Z"
    }
   },
   "outputs": [
    {
     "name": "stdout",
     "output_type": "stream",
     "text": [
      "npg\n",
      "[2 3 4 6 7 8]\n",
      "logistic_cv\n",
      "[ 1  3  4  6  7  9 12 13 14 15 18 19 22 25 30]\n",
      "random_forest\n",
      "[1 2 3 4 6 7 8]\n"
     ]
    }
   ],
   "source": [
    "print('npg')\n",
    "print(np.where(theta > 0.90)[0] + 1)\n",
    "\n",
    "print('logistic_cv')\n",
    "logistic_cv = LogisticRegressionCV(cv=5, fit_intercept=False, penalty='l1', max_iter=1e6, solver='saga')\n",
    "logistic_cv.fit(X, Y)\n",
    "print(np.where(logistic_cv.coef_[0] != 0)[0] + 1)\n",
    "\n",
    "print('random_forest')\n",
    "rf = RandomForestClassifier(max_depth=5, random_state=seed)    \n",
    "rf.fit(X, Y)\n",
    "sfm = SelectFromModel(rf, prefit=True)\n",
    "print(np.arange(n)[sfm.get_support()] + 1)"
   ]
  },
  {
   "cell_type": "code",
   "execution_count": 36,
   "id": "d235b1d0",
   "metadata": {
    "ExecuteTime": {
     "end_time": "2022-08-10T13:54:48.666400Z",
     "start_time": "2022-08-10T13:54:30.500982Z"
    }
   },
   "outputs": [
    {
     "name": "stdout",
     "output_type": "stream",
     "text": [
      "npg:  [  0   1   2   4   5   6 103 151]\n",
      "logistic_cv\n",
      "logistic_cv:  [  0   1   2   3   4   5   6   7  17  25  35  45  49  52  53  56  59  60\n",
      "  67  83  92  94  99 101 103 107 111 114 126 130 134 142 147 151 152 166\n",
      " 186 203 211 214 218 226 229 247 266 284 299]\n",
      "random_forest:  [  0   2   3   4   6  45 126 174]\n"
     ]
    }
   ],
   "source": [
    "num_selected = 8\n",
    "\n",
    "npg = np.argsort(theta)[::-1][:num_selected]\n",
    "print('npg: ', np.sort(npg))\n",
    "\n",
    "\n",
    "print('logistic_cv')\n",
    "logistic_cv = LogisticRegressionCV(cv=5, fit_intercept=False, penalty='l1', max_iter=1e6, solver='saga')\n",
    "logistic_cv.fit(X, Y)\n",
    "print('logistic_cv: ', np.where(logistic_cv.coef_[0] != 0)[0])\n",
    "\n",
    "regr = RandomForestClassifier(max_depth=5)\n",
    "regr.fit(x_train, y_train)\n",
    "rf = np.argsort(regr.feature_importances_)[::-1][:num_selected]\n",
    "print('random_forest: ', np.sort(rf))"
   ]
  },
  {
   "cell_type": "markdown",
   "id": "89d5a70c",
   "metadata": {},
   "source": [
    "## run different seeds"
   ]
  },
  {
   "cell_type": "code",
   "execution_count": 24,
   "id": "27bd69f4",
   "metadata": {
    "ExecuteTime": {
     "end_time": "2022-08-09T07:46:25.078434Z",
     "start_time": "2022-08-09T07:46:25.048514Z"
    }
   },
   "outputs": [],
   "source": [
    "# training steps\n",
    "m = 200\n",
    "n = 50\n",
    "sigma = 0.5\n",
    "num_support = 8\n",
    "signal = 1\n",
    "y_true = np.zeros(n, dtype=int)\n",
    "y_true[:num_support] = 1\n",
    "batch_size = 64\n",
    "\n",
    "def run(seed):\n",
    "    start = time.time()\n",
    "    print(f'random seed: {seed} is running')\n",
    "    np.random.seed(seed)\n",
    "    torch.manual_seed(seed)\n",
    "    \n",
    "#     X, Y, beta_star, cov = generate_data(m, n, signal, sigma, num_support, seed=seed)   \n",
    "    X, Y = multi_classes(m, n, n_informative, n_redundant, n_repeated, n_classes, seed=seed) \n",
    "    x_train, x_test, y_train, y_test = train_test_split(X, Y, test_size=0.3, random_state=seed)\n",
    "    \n",
    "    \n",
    "        \n",
    "    r_list = []\n",
    "    r_baseline = 0\n",
    "    dictionary = dict()\n",
    "    theta = np.zeros(n) + 0.5\n",
    "    p_list = []\n",
    "#     w_norm = []\n",
    "    \n",
    "    for step in range(200):\n",
    "        # print('step: ', step)\n",
    "        \n",
    "        p_list.append(theta)\n",
    "        actions = np.zeros((batch_size, n))\n",
    "        p = torch.from_numpy(theta)\n",
    "        for i in range(batch_size):\n",
    "            action = torch.bernoulli(p)\n",
    "            if action.sum() == 0:\n",
    "                idx = np.random.randint(0, n, int(n/3))\n",
    "                action[idx] = 1\n",
    "            actions[i, :] = action.numpy()\n",
    "\n",
    "\n",
    "\n",
    "        rewards = compute_reward(x_train, y_train, x_test, y_test, actions, hiddens=(128, ), num_iter=1000, lr=1e-2, batch_size=batch_size, dictionary=dictionary)\n",
    "        r_list.append(rewards.mean())\n",
    "#         print(f'average reward: {rewards.mean()}')\n",
    "    #     rewards = torch.tensor(rewards, dtype=torch.float32)\n",
    "\n",
    "        # r_baseline = 0.95 * r_baseline + 0.05 * rewards.mean()\n",
    "\n",
    "        # sampled natural policy gradient\n",
    "        log_pi_grad = actions / theta - (1 - actions)/(1 - theta)\n",
    "\n",
    "\n",
    "        reg = Ridge(alpha=0.1)\n",
    "        reg.fit(log_pi_grad, rewards)\n",
    "        w = reg.coef_\n",
    "\n",
    "#         w_norm.append(np.linalg.norm(w))\n",
    "\n",
    "        theta = theta + 1 * w    \n",
    "        theta = np.clip(theta, 0.02, 0.98)\n",
    "\n",
    "\n",
    "    #     if step > 6:\n",
    "    #         if (abs(r_list[-1] - r_list[-2]) < 1e-3) & (abs(r_list[-2] - r_list[-3]) < 1e-3) \\\n",
    "    #             & (abs(r_list[-3] - r_list[-4]) < 1e-3) & (abs(r_list[-4] - r_list[-5]) < 1e-3):\n",
    "    #             print(f'converge at step {step}')\n",
    "    #             break\n",
    "\n",
    "        if np.linalg.norm(theta - p_list[-1]) < 1e-3:\n",
    "            print(f'converge at step {step}')\n",
    "            break\n",
    "            \n",
    "    \n",
    "#     tmp = sorted(dictionary.items(), key=lambda x: x[1])\n",
    "#     s = set(range(n))\n",
    "#     for item in tmp[:10]:\n",
    "#         s = s & set(item[0])\n",
    "    # print(s)\n",
    "    \n",
    "                        \n",
    "#     y_pred_rl1 = np.where(action_select[-10:].mean(axis=0) >= 0.9, 1, 0)\n",
    "#     y_pred_rl2 = np.where(actions.mean(dim=0) >= 0.9, 1, 0)\n",
    "#     y_pred_rl1 = action_select[-10:].mean(axis=0)\n",
    "#     y_pred_rl2 = actions.mean(dim=0).numpy()\n",
    "    y_pred_rl1 = theta\n",
    "#     y_pred_rl3 = np.where([i in s for i in range(n)], 1, 0)\n",
    "    \n",
    "    \n",
    "    logistic_cv = LogisticRegressionCV(cv=5, fit_intercept=False, penalty='l1', max_iter=1e6, solver='saga')\n",
    "    logistic_cv.fit(x_train, y_train)\n",
    "    y_pred_logcv = logistic_cv.coef_[0]\n",
    "    rf = RandomForestClassifier(max_depth=5)\n",
    "    rf.fit(x_train, y_train)\n",
    "    y_pred_rf = rf.feature_importances_\n",
    "    \n",
    "    dat = np.vstack((y_pred_rl1, y_pred_logcv, y_pred_rf))\n",
    "    \n",
    "    print('npg', np.argsort(theta)[::-1][:8])\n",
    "    print('logistic cv', np.argsort(y_pred_logcv)[::-1][:8])\n",
    "    print('random forest', np.argsort(y_pred_rf)[::-1][:8])\n",
    "    \n",
    "    # cm1 = confusion_matrix(y_true, y_pred_rl1)\n",
    "    # cm2 = confusion_matrix(y_true, y_pred_rl2)\n",
    "    # cm_bic = confusion_matrix(y_true, y_pred_bic)\n",
    "    # cm_aic = confusion_matrix(y_true, y_pred_aic)\n",
    "    # # return cm1, cm2, cm_bic, cm_aic\n",
    "    \n",
    "    # dat = pd.DataFrame(np.zeros((3, 4)), index=['precision', 'specificity', 'recall'])\n",
    "    #                     # columns=['cm1', 'cm2', 'bic', 'aic'])\n",
    "    \n",
    "    # for i, cm in enumerate([cm1, cm2, cm_bic, cm_aic]):\n",
    "    #     tn, fp, fn, tp = cm.ravel()\n",
    "    #     dat.loc['precision', i] = tp/(tp+fn)\n",
    "    #     dat.loc['specificity', i] = tn/(tn+fp)\n",
    "    #     dat.loc['recall', i] = 0 if tp + fp == 0 else tp/(tp+fp)\n",
    "        \n",
    "    # dat.columns = ['cm1', 'cm2', 'bic', 'aic']\n",
    "    \n",
    "    \n",
    "#     regr = LogisticRegression(penalty='l2', fit_intercept=False, max_iter=1e6)\n",
    "#     regr.fit(X, Y)\n",
    "#     sfm = SelectFromModel(regr, prefit=True)\n",
    "#     y_pred_log = np.where(sfm.get_support(), 1, 0)\n",
    "    \n",
    "    \n",
    "    end = time.time()\n",
    "    print(f'rd: {seed} take {datetime.timedelta(seconds = end - start)}')\n",
    "    \n",
    "    return dat"
   ]
  },
  {
   "cell_type": "code",
   "execution_count": 25,
   "id": "76d5e0e8",
   "metadata": {
    "ExecuteTime": {
     "end_time": "2022-08-10T03:20:44.107121Z",
     "start_time": "2022-08-09T07:46:27.908865Z"
    },
    "scrolled": true
   },
   "outputs": [
    {
     "name": "stderr",
     "output_type": "stream",
     "text": [
      "\r",
      "  0%|                                                                                                                                                                                  | 0/50 [00:00<?, ?it/s]"
     ]
    },
    {
     "name": "stdout",
     "output_type": "stream",
     "text": [
      "random seed: 0 is running\n"
     ]
    },
    {
     "name": "stderr",
     "output_type": "stream",
     "text": [
      "\r",
      "  2%|███▎                                                                                                                                                                   | 1/50 [12:13<9:59:20, 733.90s/it]"
     ]
    },
    {
     "name": "stdout",
     "output_type": "stream",
     "text": [
      "npg [ 0  2  3  4  7  1 21 46]\n",
      "logistic cv [34 26  4 47  0 46 13  3]\n",
      "random forest [ 2  1  4  7  0  5  6 34]\n",
      "rd: 0 take 0:12:13.880818\n",
      "random seed: 1 is running\n"
     ]
    },
    {
     "name": "stderr",
     "output_type": "stream",
     "text": [
      "\r",
      "  4%|██████▋                                                                                                                                                                | 2/50 [24:17<9:42:26, 728.06s/it]"
     ]
    },
    {
     "name": "stdout",
     "output_type": "stream",
     "text": [
      "npg [ 4  5  7  3  6  0  9 10]\n",
      "logistic cv [ 5 36 29 15 34  6 47 30]\n",
      "random forest [ 4  7  0  3  5  1  6 24]\n",
      "rd: 1 take 0:12:03.952692\n",
      "random seed: 2 is running\n"
     ]
    },
    {
     "name": "stderr",
     "output_type": "stream",
     "text": [
      "\r",
      "  6%|██████████                                                                                                                                                             | 3/50 [37:35<9:55:03, 759.65s/it]"
     ]
    },
    {
     "name": "stdout",
     "output_type": "stream",
     "text": [
      "npg [ 6  4  0  5  2  1  3 15]\n",
      "logistic cv [49 12 22 21 20 19 18 17]\n",
      "random forest [ 6  2  0  5  1  3 32 30]\n",
      "rd: 2 take 0:13:17.225562\n",
      "random seed: 3 is running\n"
     ]
    },
    {
     "name": "stderr",
     "output_type": "stream",
     "text": [
      "\r",
      "  8%|█████████████▎                                                                                                                                                         | 4/50 [50:05<9:39:35, 755.98s/it]"
     ]
    },
    {
     "name": "stdout",
     "output_type": "stream",
     "text": [
      "npg [ 2  3  5  0  6  1 49 20]\n",
      "logistic cv [ 3 31 49 47 15 37 43 42]\n",
      "random forest [ 5  2  6  3  7  0  4 40]\n",
      "rd: 3 take 0:12:30.325468\n",
      "random seed: 4 is running\n"
     ]
    },
    {
     "name": "stderr",
     "output_type": "stream",
     "text": [
      "\r",
      " 10%|████████████████▌                                                                                                                                                    | 5/50 [1:02:43<9:27:36, 756.82s/it]"
     ]
    },
    {
     "name": "stdout",
     "output_type": "stream",
     "text": [
      "npg [17  7  2  3  5  4  6  9]\n",
      "logistic cv [49 12 22 21 20 19 18 17]\n",
      "random forest [5 2 3 7 4 6 0 1]\n",
      "rd: 4 take 0:12:38.268228\n",
      "random seed: 5 is running\n"
     ]
    },
    {
     "name": "stderr",
     "output_type": "stream",
     "text": [
      "\r",
      " 12%|███████████████████▊                                                                                                                                                 | 6/50 [1:15:22<9:15:25, 757.39s/it]"
     ]
    },
    {
     "name": "stdout",
     "output_type": "stream",
     "text": [
      "npg [ 0  3  7  6 31  5  2 43]\n",
      "logistic cv [30 25  3 11 22 14 16  4]\n",
      "random forest [ 3  7  0  5 28  4  2  6]\n",
      "rd: 5 take 0:12:38.456901\n",
      "random seed: 6 is running\n"
     ]
    },
    {
     "name": "stderr",
     "output_type": "stream",
     "text": [
      "\r",
      " 14%|███████████████████████                                                                                                                                              | 7/50 [1:28:23<9:08:21, 765.15s/it]"
     ]
    },
    {
     "name": "stdout",
     "output_type": "stream",
     "text": [
      "npg [ 2  3  4  7  6  0 41 10]\n",
      "logistic cv [27 40  7 10 13 15 37 19]\n",
      "random forest [ 7  1  4  2 46  3 10 40]\n",
      "rd: 6 take 0:13:01.077754\n",
      "random seed: 7 is running\n"
     ]
    },
    {
     "name": "stderr",
     "output_type": "stream",
     "text": [
      "\r",
      " 16%|██████████████████████████▍                                                                                                                                          | 8/50 [1:41:42<9:03:09, 775.94s/it]"
     ]
    },
    {
     "name": "stdout",
     "output_type": "stream",
     "text": [
      "npg [1 2 4 5 7 6 0 3]\n",
      "logistic cv [14 23 20  9 26 18  0 48]\n",
      "random forest [ 0  3  5  7  2  6 14  1]\n",
      "rd: 7 take 0:13:19.030157\n",
      "random seed: 8 is running\n"
     ]
    },
    {
     "name": "stderr",
     "output_type": "stream",
     "text": [
      "\r",
      " 18%|█████████████████████████████▎                                                                                                                                     | 9/50 [3:16:24<26:18:22, 2309.82s/it]"
     ]
    },
    {
     "name": "stdout",
     "output_type": "stream",
     "text": [
      "npg [0 1 3 4 2 6 5 7]\n",
      "logistic cv [ 7 21  3  8 49 36 26 17]\n",
      "random forest [ 5  2  4  1 13  0  7  3]\n",
      "rd: 8 take 1:34:42.513633\n",
      "random seed: 9 is running\n"
     ]
    },
    {
     "name": "stderr",
     "output_type": "stream",
     "text": [
      "\r",
      " 20%|████████████████████████████████▍                                                                                                                                 | 10/50 [3:28:14<20:10:26, 1815.66s/it]"
     ]
    },
    {
     "name": "stdout",
     "output_type": "stream",
     "text": [
      "npg [ 0  1  2  7  4  6  3 13]\n",
      "logistic cv [39 33 34 14 22 13  9  0]\n",
      "random forest [ 0  2  3  5  6  1 35 27]\n",
      "rd: 9 take 0:11:49.124776\n",
      "random seed: 10 is running\n"
     ]
    },
    {
     "name": "stderr",
     "output_type": "stream",
     "text": [
      "\r",
      " 22%|███████████████████████████████████▋                                                                                                                              | 11/50 [3:40:48<16:09:08, 1490.98s/it]"
     ]
    },
    {
     "name": "stdout",
     "output_type": "stream",
     "text": [
      "npg [ 2  4  6  3  1  5  7 49]\n",
      "logistic cv [39  4  1 37 30 44 18  2]\n",
      "random forest [ 1  6  4  3  5 39  7 28]\n",
      "rd: 10 take 0:12:34.771408\n",
      "random seed: 11 is running\n"
     ]
    },
    {
     "name": "stderr",
     "output_type": "stream",
     "text": [
      "\r",
      " 24%|██████████████████████████████████████▉                                                                                                                           | 12/50 [3:53:54<13:28:25, 1276.45s/it]"
     ]
    },
    {
     "name": "stdout",
     "output_type": "stream",
     "text": [
      "npg [ 2  4  6  7  0  1 32  5]\n",
      "logistic cv [38  4 40 17  5  7 42 33]\n",
      "random forest [ 4  7  5  1  0  3 21 38]\n",
      "rd: 11 take 0:13:05.765196\n",
      "random seed: 12 is running\n"
     ]
    },
    {
     "name": "stderr",
     "output_type": "stream",
     "text": [
      "\r",
      " 26%|██████████████████████████████████████████                                                                                                                        | 13/50 [4:06:25<11:28:57, 1117.23s/it]"
     ]
    },
    {
     "name": "stdout",
     "output_type": "stream",
     "text": [
      "npg [ 7  2  3  5  1  6  0 10]\n",
      "logistic cv [49 12 22 21 20 19 18 17]\n",
      "random forest [ 6  0  3  2  7  1 29 47]\n",
      "rd: 12 take 0:12:30.855060\n",
      "random seed: 13 is running\n"
     ]
    },
    {
     "name": "stderr",
     "output_type": "stream",
     "text": [
      "\r",
      " 28%|█████████████████████████████████████████████▉                                                                                                                      | 14/50 [4:18:22<9:57:43, 996.22s/it]"
     ]
    },
    {
     "name": "stdout",
     "output_type": "stream",
     "text": [
      "npg [4 7 5 0 3 6 2 1]\n",
      "logistic cv [ 8 22 41  1 15 28 40 43]\n",
      "random forest [ 7  5  6  1 44 37  2 45]\n",
      "rd: 13 take 0:11:56.553682\n",
      "random seed: 14 is running\n"
     ]
    },
    {
     "name": "stderr",
     "output_type": "stream",
     "text": [
      "\r",
      " 30%|█████████████████████████████████████████████████▏                                                                                                                  | 15/50 [4:30:03<8:49:17, 907.35s/it]"
     ]
    },
    {
     "name": "stdout",
     "output_type": "stream",
     "text": [
      "npg [0 3 6 7 1 2 5 4]\n",
      "logistic cv [ 2 38 33 32 13 49  8 16]\n",
      "random forest [ 3  4  6  1  2  5  7 38]\n",
      "rd: 14 take 0:11:41.386197\n",
      "random seed: 15 is running\n"
     ]
    },
    {
     "name": "stderr",
     "output_type": "stream",
     "text": [
      "\r",
      " 32%|████████████████████████████████████████████████████▍                                                                                                               | 16/50 [4:41:38<7:57:59, 843.52s/it]"
     ]
    },
    {
     "name": "stdout",
     "output_type": "stream",
     "text": [
      "npg [ 3  0  7  1 22  6  5 10]\n",
      "logistic cv [ 1  0 12 22 21 20 19 18]\n",
      "random forest [ 7  3  1  0  6  4 30 33]\n",
      "rd: 15 take 0:11:35.274241\n",
      "random seed: 16 is running\n"
     ]
    },
    {
     "name": "stderr",
     "output_type": "stream",
     "text": [
      "\r",
      " 34%|███████████████████████████████████████████████████████▊                                                                                                            | 17/50 [4:53:14<7:19:27, 799.02s/it]"
     ]
    },
    {
     "name": "stdout",
     "output_type": "stream",
     "text": [
      "npg [ 1  3  4  7  2  0  5 42]\n",
      "logistic cv [12 10 30 29  1 24  5  9]\n",
      "random forest [ 1  0  4  3  2  7  6 24]\n",
      "rd: 16 take 0:11:35.522462\n",
      "random seed: 17 is running\n"
     ]
    },
    {
     "name": "stderr",
     "output_type": "stream",
     "text": [
      "\r",
      " 36%|███████████████████████████████████████████████████████████                                                                                                         | 18/50 [5:04:41<6:48:14, 765.45s/it]"
     ]
    },
    {
     "name": "stdout",
     "output_type": "stream",
     "text": [
      "npg [ 0  2  3  6 23 45 21 19]\n",
      "logistic cv [ 0 18 29  4 33 30 16 39]\n",
      "random forest [ 0  3  2  6  7  4  1 10]\n",
      "rd: 17 take 0:11:27.289203\n",
      "random seed: 18 is running\n"
     ]
    },
    {
     "name": "stderr",
     "output_type": "stream",
     "text": [
      "\r",
      " 38%|██████████████████████████████████████████████████████████████▎                                                                                                     | 19/50 [5:16:16<6:24:28, 744.16s/it]"
     ]
    },
    {
     "name": "stdout",
     "output_type": "stream",
     "text": [
      "npg [ 0  5  2  1 39  7  6 27]\n",
      "logistic cv [44 10 38 41  4  7  3 16]\n",
      "random forest [ 2  7  5  4  0 44  6 39]\n",
      "rd: 18 take 0:11:34.519628\n",
      "random seed: 19 is running\n"
     ]
    },
    {
     "name": "stderr",
     "output_type": "stream",
     "text": [
      "\r",
      " 40%|█████████████████████████████████████████████████████████████████▌                                                                                                  | 20/50 [5:27:38<6:02:45, 725.52s/it]"
     ]
    },
    {
     "name": "stdout",
     "output_type": "stream",
     "text": [
      "npg [ 0  2  7  5  4  3 15 41]\n",
      "logistic cv [49 12 22 21 20 19 18 17]\n",
      "random forest [ 4  2  7  0  3 41  5 43]\n",
      "rd: 19 take 0:11:22.066727\n",
      "random seed: 20 is running\n"
     ]
    },
    {
     "name": "stderr",
     "output_type": "stream",
     "text": [
      "\r",
      " 42%|████████████████████████████████████████████████████████████████████▉                                                                                               | 21/50 [5:39:20<5:47:19, 718.61s/it]"
     ]
    },
    {
     "name": "stdout",
     "output_type": "stream",
     "text": [
      "npg [ 5  1  7  2  6  0  4 48]\n",
      "logistic cv [ 2  6 49 13 22 21 20 19]\n",
      "random forest [ 1  2  5 44 25  7  6 38]\n",
      "rd: 20 take 0:11:42.463499\n",
      "random seed: 21 is running\n"
     ]
    },
    {
     "name": "stderr",
     "output_type": "stream",
     "text": [
      "\r",
      " 44%|████████████████████████████████████████████████████████████████████████▏                                                                                           | 22/50 [5:51:15<5:34:50, 717.51s/it]"
     ]
    },
    {
     "name": "stdout",
     "output_type": "stream",
     "text": [
      "npg [0 4 7 3 6 5 1 2]\n",
      "logistic cv [ 4  3  7 45 28  6 32 49]\n",
      "random forest [ 7  0  4  1  3 29 32 16]\n",
      "rd: 21 take 0:11:54.920685\n",
      "random seed: 22 is running\n"
     ]
    },
    {
     "name": "stderr",
     "output_type": "stream",
     "text": [
      "\r",
      " 46%|███████████████████████████████████████████████████████████████████████████▍                                                                                        | 23/50 [6:02:36<5:17:58, 706.62s/it]"
     ]
    },
    {
     "name": "stdout",
     "output_type": "stream",
     "text": [
      "npg [ 6 43  1  7  3  0  2 12]\n",
      "logistic cv [ 0 48 22 21 20 19 18 17]\n",
      "random forest [ 6  3  0  7  1 19 38 27]\n",
      "rd: 22 take 0:11:21.215373\n",
      "random seed: 23 is running\n"
     ]
    },
    {
     "name": "stderr",
     "output_type": "stream",
     "text": [
      "\r",
      " 48%|██████████████████████████████████████████████████████████████████████████████▏                                                                                    | 24/50 [6:32:13<7:25:16, 1027.55s/it]"
     ]
    },
    {
     "name": "stdout",
     "output_type": "stream",
     "text": [
      "npg [ 1  6  3  0  2  4  5 18]\n",
      "logistic cv [49 12 22 21 20 19 18 17]\n",
      "random forest [ 0  2  3  4  6  7 17 45]\n",
      "rd: 23 take 0:29:36.165829\n",
      "random seed: 24 is running\n"
     ]
    },
    {
     "name": "stderr",
     "output_type": "stream",
     "text": [
      "\r",
      " 50%|██████████████████████████████████████████████████████████████████████████████████                                                                                  | 25/50 [6:43:50<6:26:53, 928.55s/it]"
     ]
    },
    {
     "name": "stdout",
     "output_type": "stream",
     "text": [
      "npg [ 7  1  2  6  3 49  5 37]\n",
      "logistic cv [ 1 49 12 22 21 20 19 18]\n",
      "random forest [ 1  6  7  4  0 28 31 39]\n",
      "rd: 24 take 0:11:37.554070\n",
      "random seed: 25 is running\n"
     ]
    },
    {
     "name": "stderr",
     "output_type": "stream",
     "text": [
      "\r",
      " 52%|█████████████████████████████████████████████████████████████████████████████████████▎                                                                              | 26/50 [6:56:26<5:50:39, 876.66s/it]"
     ]
    },
    {
     "name": "stdout",
     "output_type": "stream",
     "text": [
      "npg [1 5 7 6 4 0 3 2]\n",
      "logistic cv [ 6 49 12 22 21 20 19 18]\n",
      "random forest [ 6  1  4 21  0 35 48 31]\n",
      "rd: 25 take 0:12:35.559154\n",
      "random seed: 26 is running\n"
     ]
    },
    {
     "name": "stderr",
     "output_type": "stream",
     "text": [
      "\r",
      " 54%|████████████████████████████████████████████████████████████████████████████████████████▌                                                                           | 27/50 [7:08:07<5:15:52, 824.01s/it]"
     ]
    },
    {
     "name": "stdout",
     "output_type": "stream",
     "text": [
      "npg [ 4 24  1  3  2  5  6  0]\n",
      "logistic cv [ 6  5 45  3  7 32 48 30]\n",
      "random forest [ 3  5  4 40  0  7  6 27]\n",
      "rd: 26 take 0:11:41.150520\n",
      "random seed: 27 is running\n"
     ]
    },
    {
     "name": "stderr",
     "output_type": "stream",
     "text": [
      "\r",
      " 56%|███████████████████████████████████████████████████████████████████████████████████████████▊                                                                        | 28/50 [7:20:05<4:50:31, 792.33s/it]"
     ]
    },
    {
     "name": "stdout",
     "output_type": "stream",
     "text": [
      "npg [1 2 6 7 5 0 4 3]\n",
      "logistic cv [36 15 13 28  7 17  1 46]\n",
      "random forest [ 6  2  3  0 47 19  4 42]\n",
      "rd: 27 take 0:11:58.390301\n",
      "random seed: 28 is running\n"
     ]
    },
    {
     "name": "stderr",
     "output_type": "stream",
     "text": [
      "\r",
      " 58%|█████████████████████████████████████████████████████████████████████████████████████████████▍                                                                   | 29/50 [15:04:49<52:02:00, 8920.03s/it]"
     ]
    },
    {
     "name": "stdout",
     "output_type": "stream",
     "text": [
      "npg [14  6  4  2  1  7 24  5]\n",
      "logistic cv [ 0 21  3  5 29 16 23 22]\n",
      "random forest [ 2  4  7  6  0  1 14  3]\n",
      "rd: 28 take 7:44:43.729376\n",
      "random seed: 29 is running\n"
     ]
    },
    {
     "name": "stderr",
     "output_type": "stream",
     "text": [
      "\r",
      " 60%|████████████████████████████████████████████████████████████████████████████████████████████████▌                                                                | 30/50 [15:21:47<36:23:04, 6549.25s/it]"
     ]
    },
    {
     "name": "stdout",
     "output_type": "stream",
     "text": [
      "npg [2 6 4 3 7 5 1 0]\n",
      "logistic cv [21  2 30  3 31 42 27  1]\n",
      "random forest [ 4  6  1 32  3  5 35 31]\n",
      "rd: 29 take 0:16:57.540798\n",
      "random seed: 30 is running\n"
     ]
    },
    {
     "name": "stderr",
     "output_type": "stream",
     "text": [
      "\r",
      " 62%|███████████████████████████████████████████████████████████████████████████████████████████████████▊                                                             | 31/50 [15:35:30<25:29:58, 4831.52s/it]"
     ]
    },
    {
     "name": "stdout",
     "output_type": "stream",
     "text": [
      "npg [ 5  1  3  0  2  6 17 33]\n",
      "logistic cv [ 6  0 12 22 21 20 19 18]\n",
      "random forest [ 1  6  5  0  2 47  3 12]\n",
      "rd: 30 take 0:13:43.519649\n",
      "random seed: 31 is running\n"
     ]
    },
    {
     "name": "stderr",
     "output_type": "stream",
     "text": [
      "\r",
      " 64%|███████████████████████████████████████████████████████████████████████████████████████████████████████                                                          | 32/50 [15:49:03<18:07:43, 3625.77s/it]"
     ]
    },
    {
     "name": "stdout",
     "output_type": "stream",
     "text": [
      "npg [ 0  4  2  3  5 37 46  1]\n",
      "logistic cv [47 18  7 31 41 46  6 49]\n",
      "random forest [ 3  2  0  4  1  6  5 47]\n",
      "rd: 31 take 0:13:32.321596\n",
      "random seed: 32 is running\n"
     ]
    },
    {
     "name": "stderr",
     "output_type": "stream",
     "text": [
      "\r",
      " 66%|██████████████████████████████████████████████████████████████████████████████████████████████████████████▎                                                      | 33/50 [16:01:17<13:01:32, 2758.39s/it]"
     ]
    },
    {
     "name": "stdout",
     "output_type": "stream",
     "text": [
      "npg [ 7  1  2  5  6 22  4 33]\n",
      "logistic cv [ 2  9 26 23 46 11  3 40]\n",
      "random forest [ 6  5  1  2 38  4 22 27]\n",
      "rd: 32 take 0:12:14.459084\n",
      "random seed: 33 is running\n"
     ]
    },
    {
     "name": "stderr",
     "output_type": "stream",
     "text": [
      "\r",
      " 68%|██████████████████████████████████████████████████████████████████████████████████████████████████████████████▏                                                   | 34/50 [16:13:10<9:31:56, 2144.80s/it]"
     ]
    },
    {
     "name": "stdout",
     "output_type": "stream",
     "text": [
      "npg [ 0  3  4  6  7  5  1 17]\n",
      "logistic cv [ 1 15 27 35 29 38 49 14]\n",
      "random forest [ 7  1  0  6  3 34 45  4]\n",
      "rd: 33 take 0:11:53.105282\n",
      "random seed: 34 is running\n"
     ]
    },
    {
     "name": "stderr",
     "output_type": "stream",
     "text": [
      "\r",
      " 70%|█████████████████████████████████████████████████████████████████████████████████████████████████████████████████▍                                                | 35/50 [16:25:06<7:09:01, 1716.11s/it]"
     ]
    },
    {
     "name": "stdout",
     "output_type": "stream",
     "text": [
      "npg [1 3 4 5 7 6 2 0]\n",
      "logistic cv [ 1 39  2 33 21 23 27 42]\n",
      "random forest [4 0 7 6 2 5 1 3]\n",
      "rd: 34 take 0:11:55.804759\n",
      "random seed: 35 is running\n"
     ]
    },
    {
     "name": "stderr",
     "output_type": "stream",
     "text": [
      "\r",
      " 72%|████████████████████████████████████████████████████████████████████████████████████████████████████████████████████▋                                             | 36/50 [16:37:39<5:33:01, 1427.24s/it]"
     ]
    },
    {
     "name": "stdout",
     "output_type": "stream",
     "text": [
      "npg [ 4  3  0  1  6  5  8 42]\n",
      "logistic cv [ 6 33 49 42  1  3 37  4]\n",
      "random forest [ 1 38  4  6 42  7 24 19]\n",
      "rd: 35 take 0:12:33.154945\n",
      "random seed: 36 is running\n"
     ]
    },
    {
     "name": "stderr",
     "output_type": "stream",
     "text": [
      "\r",
      " 74%|███████████████████████████████████████████████████████████████████████████████████████████████████████████████████████▉                                          | 37/50 [16:49:49<4:23:51, 1217.80s/it]"
     ]
    },
    {
     "name": "stdout",
     "output_type": "stream",
     "text": [
      "npg [ 5  7  3  6  2  0  4 22]\n",
      "logistic cv [49 12 22 21 20 19 18 17]\n",
      "random forest [ 3  7  4 21  5  0  1 43]\n",
      "rd: 36 take 0:12:09.069692\n",
      "random seed: 37 is running\n"
     ]
    },
    {
     "name": "stderr",
     "output_type": "stream",
     "text": [
      "\r",
      " 76%|███████████████████████████████████████████████████████████████████████████████████████████████████████████████████████████                                       | 38/50 [17:01:35<3:32:53, 1064.43s/it]"
     ]
    },
    {
     "name": "stdout",
     "output_type": "stream",
     "text": [
      "npg [ 7  4  3  2  6  1  5 30]\n",
      "logistic cv [ 3 12 29  7  1 40 16  2]\n",
      "random forest [ 7  2  5  3  6  4  0 14]\n",
      "rd: 37 take 0:11:46.555879\n",
      "random seed: 38 is running\n"
     ]
    },
    {
     "name": "stderr",
     "output_type": "stream",
     "text": [
      "\r",
      " 78%|███████████████████████████████████████████████████████████████████████████████████████████████████████████████████████████████▏                                   | 39/50 [17:14:30<2:59:12, 977.49s/it]"
     ]
    },
    {
     "name": "stdout",
     "output_type": "stream",
     "text": [
      "npg [ 0  7  2  3  4  1  5 49]\n",
      "logistic cv [30  7  6  9 21 20 38 44]\n",
      "random forest [ 7  4  3  0  1  2 46 44]\n",
      "rd: 38 take 0:12:54.571931\n",
      "random seed: 39 is running\n"
     ]
    },
    {
     "name": "stderr",
     "output_type": "stream",
     "text": [
      "\r",
      " 80%|██████████████████████████████████████████████████████████████████████████████████████████████████████████████████████████████████▍                                | 40/50 [17:27:16<2:32:21, 914.17s/it]"
     ]
    },
    {
     "name": "stdout",
     "output_type": "stream",
     "text": [
      "npg [ 4  7  0  1  6  3  2 18]\n",
      "logistic cv [49 48 22 21 20 19 18 17]\n",
      "random forest [ 0  3  7  5  6 32  1 19]\n",
      "rd: 39 take 0:12:46.401878\n",
      "random seed: 40 is running\n"
     ]
    },
    {
     "name": "stderr",
     "output_type": "stream",
     "text": [
      "\r",
      " 82%|█████████████████████████████████████████████████████████████████████████████████████████████████████████████████████████████████████▋                             | 41/50 [17:39:27<2:08:51, 859.04s/it]"
     ]
    },
    {
     "name": "stdout",
     "output_type": "stream",
     "text": [
      "npg [ 2  5  6  3 39 32  4  7]\n",
      "logistic cv [33  4 40 26 39 46 16  7]\n",
      "random forest [ 4  2  3  1 15  7  5 42]\n",
      "rd: 40 take 0:12:10.380458\n",
      "random seed: 41 is running\n"
     ]
    },
    {
     "name": "stderr",
     "output_type": "stream",
     "text": [
      "\r",
      " 84%|████████████████████████████████████████████████████████████████████████████████████████████████████████████████████████████████████████▉                          | 42/50 [17:52:09<1:50:39, 829.92s/it]"
     ]
    },
    {
     "name": "stdout",
     "output_type": "stream",
     "text": [
      "npg [ 6  7  2  5  0  1  4 47]\n",
      "logistic cv [ 2 26 43  6 24 27 25 10]\n",
      "random forest [ 2  7  5 37  0 40  3  4]\n",
      "rd: 41 take 0:12:41.955790\n",
      "random seed: 42 is running\n"
     ]
    },
    {
     "name": "stderr",
     "output_type": "stream",
     "text": [
      "\r",
      " 86%|████████████████████████████████████████████████████████████████████████████████████████████████████████████████████████████████████████████▏                      | 43/50 [18:04:46<1:34:17, 808.19s/it]"
     ]
    },
    {
     "name": "stdout",
     "output_type": "stream",
     "text": [
      "npg [6 7 3 0 2 1 4 5]\n",
      "logistic cv [23 19 32 37  2 46  0 27]\n",
      "random forest [ 7 49  0  5  2  3  1  6]\n",
      "rd: 42 take 0:12:37.462575\n",
      "random seed: 43 is running\n"
     ]
    },
    {
     "name": "stderr",
     "output_type": "stream",
     "text": [
      "\r",
      " 88%|███████████████████████████████████████████████████████████████████████████████████████████████████████████████████████████████████████████████▍                   | 44/50 [18:18:27<1:21:12, 812.13s/it]"
     ]
    },
    {
     "name": "stdout",
     "output_type": "stream",
     "text": [
      "npg [0 1 6 7 5 2 3 4]\n",
      "logistic cv [ 9 30  0 40 35  7 42 48]\n",
      "random forest [ 1  6  2  0  7  5 28 47]\n",
      "rd: 43 take 0:13:41.296755\n",
      "random seed: 44 is running\n"
     ]
    },
    {
     "name": "stderr",
     "output_type": "stream",
     "text": [
      "\r",
      " 90%|██████████████████████████████████████████████████████████████████████████████████████████████████████████████████████████████████████████████████▋                | 45/50 [18:30:59<1:06:10, 794.11s/it]"
     ]
    },
    {
     "name": "stdout",
     "output_type": "stream",
     "text": [
      "npg [ 0 39  6  7  5  3  1  4]\n",
      "logistic cv [ 3 32 12  7 47 36 16 14]\n",
      "random forest [ 2  6  5  1  0 30 40  4]\n",
      "rd: 44 take 0:12:32.011797\n",
      "random seed: 45 is running\n"
     ]
    },
    {
     "name": "stderr",
     "output_type": "stream",
     "text": [
      "\r",
      " 92%|███████████████████████████████████████████████████████████████████████████████████████████████████████████████████████████████████████████████████████▊             | 46/50 [18:43:50<52:28, 787.01s/it]"
     ]
    },
    {
     "name": "stdout",
     "output_type": "stream",
     "text": [
      "npg [1 2 6 5 3 7 4 0]\n",
      "logistic cv [ 3 20 31  2 38 22 36 40]\n",
      "random forest [ 4  2  6  7  1 17  3  0]\n",
      "rd: 45 take 0:12:50.418363\n",
      "random seed: 46 is running\n"
     ]
    },
    {
     "name": "stderr",
     "output_type": "stream",
     "text": [
      "\r",
      " 94%|███████████████████████████████████████████████████████████████████████████████████████████████████████████████████████████████████████████████████████████          | 47/50 [18:56:00<38:29, 769.94s/it]"
     ]
    },
    {
     "name": "stdout",
     "output_type": "stream",
     "text": [
      "npg [ 6  2  5  7  1  0  4 37]\n",
      "logistic cv [28  9  5 44  2  4  3 19]\n",
      "random forest [ 7  1  2  5  3  6 44 30]\n",
      "rd: 46 take 0:12:10.096351\n",
      "random seed: 47 is running\n"
     ]
    },
    {
     "name": "stderr",
     "output_type": "stream",
     "text": [
      "\r",
      " 96%|██████████████████████████████████████████████████████████████████████████████████████████████████████████████████████████████████████████████████████████████▍      | 48/50 [19:08:44<25:36, 768.13s/it]"
     ]
    },
    {
     "name": "stdout",
     "output_type": "stream",
     "text": [
      "npg [ 4  7  6  5  1  0 23 20]\n",
      "logistic cv [46 39 34 49 14 48 23 21]\n",
      "random forest [ 2  6  5  1  4  3  7 13]\n",
      "rd: 47 take 0:12:43.864080\n",
      "random seed: 48 is running\n"
     ]
    },
    {
     "name": "stderr",
     "output_type": "stream",
     "text": [
      "\r",
      " 98%|█████████████████████████████████████████████████████████████████████████████████████████████████████████████████████████████████████████████████████████████████▋   | 49/50 [19:21:48<12:52, 772.86s/it]"
     ]
    },
    {
     "name": "stdout",
     "output_type": "stream",
     "text": [
      "npg [0 4 6 7 3 1 2 5]\n",
      "logistic cv [ 0 28  7  4  3 38 48 40]\n",
      "random forest [ 0  6  7 22  3 40 39  4]\n",
      "rd: 48 take 0:13:03.864434\n",
      "random seed: 49 is running\n"
     ]
    },
    {
     "name": "stderr",
     "output_type": "stream",
     "text": [
      "100%|████████████████████████████████████████████████████████████████████████████████████████████████████████████████████████████████████████████████████████████████████| 50/50 [19:34:16<00:00, 1409.12s/it]"
     ]
    },
    {
     "name": "stdout",
     "output_type": "stream",
     "text": [
      "npg [ 0  4  7  2  6  1 26  9]\n",
      "logistic cv [31 36 15 44  2 33 28  7]\n",
      "random forest [ 7  0  2 26 10 22  4 44]\n",
      "rd: 49 take 0:12:27.784496\n",
      "19:34:16.142405\n"
     ]
    },
    {
     "name": "stderr",
     "output_type": "stream",
     "text": [
      "\n"
     ]
    }
   ],
   "source": [
    "if __name__ == '__main__':\n",
    "    start = time.time()\n",
    "    dats = []\n",
    "    for sd in tqdm(range(50)):\n",
    "        dats.append(run(sd))\n",
    "\n",
    "    # print(\"CPU的核数为：{}\".format(mp.cpu_count()))\n",
    "\n",
    "#     pool = mp.Pool(5)\n",
    "#     dats = pool.map(run, range(50))\n",
    "#     pool.close()\n",
    "    end = time.time()\n",
    "    print(datetime.timedelta(seconds = end - start))\n",
    "    \n",
    "    \n",
    "    dats = np.array([dat for dat in dats])"
   ]
  },
  {
   "cell_type": "code",
   "execution_count": 26,
   "id": "862bc5e4",
   "metadata": {
    "ExecuteTime": {
     "end_time": "2022-08-10T03:21:03.016551Z",
     "start_time": "2022-08-10T03:21:02.966685Z"
    }
   },
   "outputs": [
    {
     "data": {
      "text/plain": [
       "(50, 3, 50)"
      ]
     },
     "execution_count": 26,
     "metadata": {},
     "output_type": "execute_result"
    }
   ],
   "source": [
    "dats.shape"
   ]
  },
  {
   "cell_type": "code",
   "execution_count": 33,
   "id": "b85b9362",
   "metadata": {
    "ExecuteTime": {
     "end_time": "2022-08-10T09:23:47.613984Z",
     "start_time": "2022-08-10T09:23:47.456405Z"
    }
   },
   "outputs": [
    {
     "data": {
      "text/html": [
       "<div>\n",
       "<style scoped>\n",
       "    .dataframe tbody tr th:only-of-type {\n",
       "        vertical-align: middle;\n",
       "    }\n",
       "\n",
       "    .dataframe tbody tr th {\n",
       "        vertical-align: top;\n",
       "    }\n",
       "\n",
       "    .dataframe thead th {\n",
       "        text-align: right;\n",
       "    }\n",
       "</style>\n",
       "<table border=\"1\" class=\"dataframe\">\n",
       "  <thead>\n",
       "    <tr style=\"text-align: right;\">\n",
       "      <th></th>\n",
       "      <th>npg</th>\n",
       "      <th>logistic cv</th>\n",
       "      <th>rf</th>\n",
       "    </tr>\n",
       "  </thead>\n",
       "  <tbody>\n",
       "    <tr>\n",
       "      <th>precision</th>\n",
       "      <td>0.853-0.111</td>\n",
       "      <td>0.240-0.139</td>\n",
       "      <td>0.757-0.118</td>\n",
       "    </tr>\n",
       "    <tr>\n",
       "      <th>recall</th>\n",
       "      <td>0.853-0.111</td>\n",
       "      <td>0.388-0.316</td>\n",
       "      <td>0.757-0.118</td>\n",
       "    </tr>\n",
       "    <tr>\n",
       "      <th>f1_score</th>\n",
       "      <td>0.853-0.111</td>\n",
       "      <td>0.262-0.140</td>\n",
       "      <td>0.757-0.118</td>\n",
       "    </tr>\n",
       "    <tr>\n",
       "      <th>specificity</th>\n",
       "      <td>0.972-0.021</td>\n",
       "      <td>0.899-0.064</td>\n",
       "      <td>0.954-0.023</td>\n",
       "    </tr>\n",
       "  </tbody>\n",
       "</table>\n",
       "</div>"
      ],
      "text/plain": [
       "                     npg  logistic cv           rf\n",
       "precision    0.853-0.111  0.240-0.139  0.757-0.118\n",
       "recall       0.853-0.111  0.388-0.316  0.757-0.118\n",
       "f1_score     0.853-0.111  0.262-0.140  0.757-0.118\n",
       "specificity  0.972-0.021  0.899-0.064  0.954-0.023"
      ]
     },
     "execution_count": 33,
     "metadata": {},
     "output_type": "execute_result"
    }
   ],
   "source": [
    "theta = dats[:,0,:]\n",
    "indices = np.argsort(theta, axis=1)[:, -8:]\n",
    "y_pred_rl1 = np.zeros((50, n))\n",
    "for i, indice in enumerate(indices):\n",
    "    y_pred_rl1[i, indice] = 1\n",
    "    \n",
    "\n",
    "y_pred_cv = np.zeros((50, n))\n",
    "nums = np.sum(dats[:, 1, :] != 0, axis=1)\n",
    "for i, num in enumerate(nums):\n",
    "    if num < 8:\n",
    "        idx = np.where(dats[i, 1, :] != 0)[0]\n",
    "    else:\n",
    "        idx = np.argsort(dats[i, 1, :])[-8:]\n",
    "    y_pred_cv[i, idx] = 1    \n",
    "\n",
    "\n",
    "indices = np.argsort(dats[:, 2, :], axis=1)[:, -8:]\n",
    "y_pred_rf = np.zeros((50, n))\n",
    "for i, indice in enumerate(indices):\n",
    "    y_pred_rf[i, indice] = 1\n",
    "\n",
    "\n",
    "def compute_metrics(cm):\n",
    "    tn, fp, fn, tp = cm.ravel()\n",
    "    precision = tp/(tp+fn)\n",
    "    recall = 0 if tp + fp == 0 else tp/(tp+fp)\n",
    "    f1_score = 0 if precision + recall == 0 else 2 * (precision * recall) / (precision + recall)\n",
    "    specificity = tn/(tn+fp)\n",
    "    return precision, recall, f1_score, specificity\n",
    "    \n",
    "\n",
    "\n",
    "cm1 = [confusion_matrix(y_true, y) for y in y_pred_rl1]\n",
    "cm_cv = [confusion_matrix(y_true, y) for y in y_pred_cv]\n",
    "cm_rf = [confusion_matrix(y_true, y) for y in y_pred_rf]\n",
    "\n",
    "\n",
    "\n",
    "\n",
    "\n",
    "results = pd.DataFrame(np.zeros((4, 3)), index=['precision', 'recall', 'f1_score', 'specificity'])\n",
    "\n",
    "for i, cms in enumerate([cm1, cm_cv, cm_rf]):\n",
    "    result = np.array([compute_metrics(cm) for cm in cms])\n",
    "    \n",
    "    results.loc['precision', i] = f'{result[:, 0].mean():.3f}'+'-'+f'{result[:, 0].std():.3f}'\n",
    "    results.loc['recall', i] = f'{result[:, 1].mean():.3f}'+'-'+f'{result[:, 1].std():.3f}'\n",
    "    results.loc['f1_score', i] = f'{result[:, 2].mean():.3f}'+'-'+f'{result[:, 2].std():.3f}'\n",
    "    results.loc['specificity', i] = f'{result[:, 3].mean():.3f}'+'-'+f'{result[:, 3].std():.3f}'\n",
    "\n",
    "results.columns = ['npg', 'logistic cv', 'rf']\n",
    "\n",
    "results"
   ]
  },
  {
   "cell_type": "code",
   "execution_count": 32,
   "id": "e7275e57",
   "metadata": {
    "ExecuteTime": {
     "end_time": "2022-08-10T09:23:31.123533Z",
     "start_time": "2022-08-10T09:23:30.803390Z"
    }
   },
   "outputs": [
    {
     "data": {
      "text/html": [
       "<div>\n",
       "<style scoped>\n",
       "    .dataframe tbody tr th:only-of-type {\n",
       "        vertical-align: middle;\n",
       "    }\n",
       "\n",
       "    .dataframe tbody tr th {\n",
       "        vertical-align: top;\n",
       "    }\n",
       "\n",
       "    .dataframe thead th {\n",
       "        text-align: right;\n",
       "    }\n",
       "</style>\n",
       "<table border=\"1\" class=\"dataframe\">\n",
       "  <thead>\n",
       "    <tr style=\"text-align: right;\">\n",
       "      <th></th>\n",
       "      <th>npg</th>\n",
       "      <th>logistic cv</th>\n",
       "      <th>rf</th>\n",
       "    </tr>\n",
       "  </thead>\n",
       "  <tbody>\n",
       "    <tr>\n",
       "      <th>precision</th>\n",
       "      <td>0.843-0.127</td>\n",
       "      <td>0.550-0.295</td>\n",
       "      <td>0.920-0.082</td>\n",
       "    </tr>\n",
       "    <tr>\n",
       "      <th>recall</th>\n",
       "      <td>0.857-0.123</td>\n",
       "      <td>0.391-0.303</td>\n",
       "      <td>0.488-0.087</td>\n",
       "    </tr>\n",
       "    <tr>\n",
       "      <th>f1_score</th>\n",
       "      <td>0.843-0.105</td>\n",
       "      <td>0.350-0.141</td>\n",
       "      <td>0.634-0.083</td>\n",
       "    </tr>\n",
       "    <tr>\n",
       "      <th>specificity</th>\n",
       "      <td>0.970-0.029</td>\n",
       "      <td>0.737-0.201</td>\n",
       "      <td>0.807-0.059</td>\n",
       "    </tr>\n",
       "  </tbody>\n",
       "</table>\n",
       "</div>"
      ],
      "text/plain": [
       "                     npg  logistic cv           rf\n",
       "precision    0.843-0.127  0.550-0.295  0.920-0.082\n",
       "recall       0.857-0.123  0.391-0.303  0.488-0.087\n",
       "f1_score     0.843-0.105  0.350-0.141  0.634-0.083\n",
       "specificity  0.970-0.029  0.737-0.201  0.807-0.059"
      ]
     },
     "execution_count": 32,
     "metadata": {},
     "output_type": "execute_result"
    }
   ],
   "source": [
    "theta = dats[:,0,:]\n",
    "y_pred_rl1 = np.where(theta > 0.85, 1, 0)\n",
    "\n",
    "\n",
    "y_pred_cv = np.zeros((50, n))\n",
    "nums = np.sum(dats[:, 1, :] != 0, axis=1)\n",
    "for i, num in enumerate(nums):\n",
    "    idx = np.where(dats[i, 1, :] != 0)[0]\n",
    "    y_pred_cv[i, idx] = 1  \n",
    "\n",
    "\n",
    "means = np.mean(dats[:, 2, :], axis=1)\n",
    "y_pred_rf = np.zeros((50, n))\n",
    "for i, mean in enumerate(means):\n",
    "    y_pred_rf[i, :] =np.where(dats[i, 2, :] > mean, 1, 0)\n",
    "\n",
    "\n",
    "def compute_metrics(cm):\n",
    "    tn, fp, fn, tp = cm.ravel()\n",
    "    precision = tp/(tp+fn)\n",
    "    recall = 0 if tp + fp == 0 else tp/(tp+fp)\n",
    "    f1_score = 0 if precision + recall == 0 else 2 * (precision * recall) / (precision + recall)\n",
    "    specificity = tn/(tn+fp)\n",
    "    return precision, recall, f1_score, specificity\n",
    "    \n",
    "\n",
    "\n",
    "cm1 = [confusion_matrix(y_true, y) for y in y_pred_rl1]\n",
    "cm_cv = [confusion_matrix(y_true, y) for y in y_pred_cv]\n",
    "cm_rf = [confusion_matrix(y_true, y) for y in y_pred_rf]\n",
    "\n",
    "\n",
    "\n",
    "\n",
    "\n",
    "results = pd.DataFrame(np.zeros((4, 3)), index=['precision', 'recall', 'f1_score', 'specificity'])\n",
    "\n",
    "for i, cms in enumerate([cm1, cm_cv, cm_rf]):\n",
    "    result = np.array([compute_metrics(cm) for cm in cms])\n",
    "    \n",
    "    results.loc['precision', i] = f'{result[:, 0].mean():.3f}'+'-'+f'{result[:, 0].std():.3f}'\n",
    "    results.loc['recall', i] = f'{result[:, 1].mean():.3f}'+'-'+f'{result[:, 1].std():.3f}'\n",
    "    results.loc['f1_score', i] = f'{result[:, 2].mean():.3f}'+'-'+f'{result[:, 2].std():.3f}'\n",
    "    results.loc['specificity', i] = f'{result[:, 3].mean():.3f}'+'-'+f'{result[:, 3].std():.3f}'\n",
    "\n",
    "results.columns = ['npg', 'logistic cv', 'rf']\n",
    "\n",
    "results"
   ]
  },
  {
   "cell_type": "code",
   "execution_count": 31,
   "id": "9b5bc73c",
   "metadata": {
    "ExecuteTime": {
     "end_time": "2022-08-10T03:23:41.612549Z",
     "start_time": "2022-08-10T03:23:41.586619Z"
    }
   },
   "outputs": [],
   "source": [
    "np.save('m200_n50_make_classification_step200_batch64_mlp_reward_19.5h.npy', dats)"
   ]
  },
  {
   "cell_type": "code",
   "execution_count": null,
   "id": "678bd93d",
   "metadata": {},
   "outputs": [],
   "source": []
  },
  {
   "cell_type": "code",
   "execution_count": null,
   "id": "9d823782",
   "metadata": {},
   "outputs": [],
   "source": []
  },
  {
   "cell_type": "code",
   "execution_count": null,
   "id": "ad8c2017",
   "metadata": {},
   "outputs": [],
   "source": []
  },
  {
   "cell_type": "code",
   "execution_count": null,
   "id": "0de4bac5",
   "metadata": {},
   "outputs": [],
   "source": []
  }
 ],
 "metadata": {
  "interpreter": {
   "hash": "e700657700ca3726e7d919db0cb1bdb00b1449743532d1443fbe37ca2c1ec67d"
  },
  "kernelspec": {
   "display_name": "Python 3",
   "language": "python",
   "name": "python3"
  },
  "language_info": {
   "codemirror_mode": {
    "name": "ipython",
    "version": 3
   },
   "file_extension": ".py",
   "mimetype": "text/x-python",
   "name": "python",
   "nbconvert_exporter": "python",
   "pygments_lexer": "ipython3",
   "version": "3.7.7"
  },
  "toc": {
   "base_numbering": 1,
   "nav_menu": {},
   "number_sections": true,
   "sideBar": true,
   "skip_h1_title": false,
   "title_cell": "Table of Contents",
   "title_sidebar": "Contents",
   "toc_cell": false,
   "toc_position": {
    "height": "calc(100% - 180px)",
    "left": "10px",
    "top": "150px",
    "width": "165px"
   },
   "toc_section_display": true,
   "toc_window_display": true
  }
 },
 "nbformat": 4,
 "nbformat_minor": 5
}
